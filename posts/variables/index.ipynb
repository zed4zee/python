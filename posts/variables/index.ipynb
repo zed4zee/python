{
  "nbformat": 4,
  "nbformat_minor": 0,
  "metadata": {
    "colab": {
      "provenance": []
    },
    "kernelspec": {
      "name": "python3",
      "display_name": "Python 3"
    },
    "language_info": {
      "name": "python"
    }
  },
  "cells": [
    {
      "cell_type": "markdown",
      "source": [
        "---\n",
        "title: \"Variables\"\n",
        "subtitle: Jars That Store Values\n",
        "description: Exploring variables and literals\n",
        "author: \"Abdullah Zeeshan\"\n",
        "date: \"2023-06-22\"\n",
        "categories: [coding]\n",
        "reading-time: True\n",
        "toc: true\n",
        "fig-align: center\n",
        "fig-cap-location: bottom\n",
        "---\n"
      ],
      "metadata": {
        "id": "sND6a0QHGIOO"
      }
    },
    {
      "cell_type": "markdown",
      "source": [
        "![](jar.jpg)\n",
        "\n",
        "My favorite number is $76547388754839847$. I can display it as follows:"
      ],
      "metadata": {
        "id": "xJ4LcZ8HGhG-"
      }
    },
    {
      "cell_type": "code",
      "source": [
        "print(76547388754839847)"
      ],
      "metadata": {
        "colab": {
          "base_uri": "https://localhost:8080/"
        },
        "id": "bkEpJzixFowv",
        "outputId": "20065cc2-3c73-463a-8db2-e13163bdb84c"
      },
      "execution_count": null,
      "outputs": [
        {
          "output_type": "stream",
          "name": "stdout",
          "text": [
            "7\n"
          ]
        }
      ]
    },
    {
      "cell_type": "markdown",
      "source": [
        "I have seen this earlier.\n",
        "\n",
        "What if I want to somehow store this number somewhere, so that instead of typing it again later in my code, I can just refer the place where I have stored it?!\n",
        "\n",
        "This can be done in Python with the following modifcation."
      ],
      "metadata": {
        "id": "HkPByQe6GmVT"
      }
    },
    {
      "cell_type": "code",
      "source": [
        "a = 76547388754839847\n",
        "print(76547388754839847)"
      ],
      "metadata": {
        "colab": {
          "base_uri": "https://localhost:8080/"
        },
        "id": "llDHcrBtGj6C",
        "outputId": "80c84120-134f-4a77-c71f-05bf00182586"
      },
      "execution_count": null,
      "outputs": [
        {
          "output_type": "stream",
          "name": "stdout",
          "text": [
            "76547388754839847\n"
          ]
        }
      ]
    },
    {
      "cell_type": "markdown",
      "source": [
        "The first line resembles mathematics, it is like an *equation*. The `a` is like a *variable* and `76547388754839847` is like a *constant*.\n",
        "\n",
        "Recall that in math, in order to *declare* a variable (say $a$) and *assign* a value to it (say $76547388754839847$), $a = 76547388754839847$ is written. The $=$ symbol is used to *assign* the value $76547388754839847$ to the variable $a$.\n",
        "\n",
        "Likewise, in programming, to perform the exact same thing, I have to type `a = 76547388754839847`. The `=` symbol is called an *assignment operator*, which basically assigns a value to a variable. This shall be explored ahead in detail.\n",
        "\n",
        "Once I have *declared* and *assigned* a value to my variable, the variable acts like a container that stores that value. The stored value becomes the value of the variable.\n",
        "\n",
        "In second line, hence, when I ask the computer to display `a`, it is displaying its stored value which is `76547388754839847`.\n",
        "\n",
        "Let me try other type of values."
      ],
      "metadata": {
        "id": "sjam3w7aGrz2"
      }
    },
    {
      "cell_type": "code",
      "source": [
        "b = 9.78\n",
        "print(b)"
      ],
      "metadata": {
        "colab": {
          "base_uri": "https://localhost:8080/"
        },
        "id": "znp_O2NjsnnI",
        "outputId": "5d2774ba-2531-425d-cb1c-1a4657a0ea7c"
      },
      "execution_count": null,
      "outputs": [
        {
          "output_type": "stream",
          "name": "stdout",
          "text": [
            "9.78\n"
          ]
        }
      ]
    },
    {
      "cell_type": "code",
      "source": [
        "c = 'i love pizza'\n",
        "print(c)"
      ],
      "metadata": {
        "colab": {
          "base_uri": "https://localhost:8080/"
        },
        "id": "C4W8f_-kssTJ",
        "outputId": "b22d8a56-3754-47a7-dab3-1076744254dc"
      },
      "execution_count": null,
      "outputs": [
        {
          "output_type": "stream",
          "name": "stdout",
          "text": [
            "i love pizza\n"
          ]
        }
      ]
    },
    {
      "cell_type": "markdown",
      "source": [
        "I get the idea now.\n",
        "\n",
        "Note that the following two things are happening simultaneously, when we type `x = 10`, for example\n",
        "\n",
        "1. Declaring/defining a variable called `x`.\n",
        "2. Assigning a value of `10` to it.\n",
        "\n",
        "Let me see if I can separate these two."
      ],
      "metadata": {
        "id": "PU0mWRrPshWb"
      }
    },
    {
      "cell_type": "code",
      "source": [
        "x\n",
        "x = 10\n",
        "print(x)"
      ],
      "metadata": {
        "colab": {
          "base_uri": "https://localhost:8080/",
          "height": 201
        },
        "id": "4m6vW7I_Gqbz",
        "outputId": "58b11e9e-6c3c-4951-e255-9750fd77d881"
      },
      "execution_count": null,
      "outputs": [
        {
          "output_type": "error",
          "ename": "NameError",
          "evalue": "ignored",
          "traceback": [
            "\u001b[0;31m---------------------------------------------------------------------------\u001b[0m",
            "\u001b[0;31mNameError\u001b[0m                                 Traceback (most recent call last)",
            "\u001b[0;32m<ipython-input-43-8354ba1b2dbf>\u001b[0m in \u001b[0;36m<cell line: 1>\u001b[0;34m()\u001b[0m\n\u001b[0;32m----> 1\u001b[0;31m \u001b[0mx\u001b[0m\u001b[0;34m\u001b[0m\u001b[0;34m\u001b[0m\u001b[0m\n\u001b[0m\u001b[1;32m      2\u001b[0m \u001b[0mx\u001b[0m \u001b[0;34m=\u001b[0m \u001b[0;36m10\u001b[0m\u001b[0;34m\u001b[0m\u001b[0;34m\u001b[0m\u001b[0m\n\u001b[1;32m      3\u001b[0m \u001b[0mprint\u001b[0m\u001b[0;34m(\u001b[0m\u001b[0mx\u001b[0m\u001b[0;34m)\u001b[0m\u001b[0;34m\u001b[0m\u001b[0;34m\u001b[0m\u001b[0m\n",
            "\u001b[0;31mNameError\u001b[0m: name 'x' is not defined"
          ]
        }
      ]
    },
    {
      "cell_type": "markdown",
      "source": [
        "Oops!\n",
        "\n",
        "Looks like I can not **just** *declare* a variable separately. I need to assign a value to it.\n",
        "\n",
        "Here is a problem, what if I want to define some variable, like `age` and just use it later. Can I do this?! Or should I by default store *some* value and sort of update it later? I need to find out.\n",
        "\n",
        "> You see this is what I was saying. My gosh! I forgot everything.\n",
        "\n",
        "Anyways, let us come back!\n",
        "\n",
        "## Variables & Literals\n",
        "\n",
        "In mathematics, there was a concept of a *variable* and a *constant*.\n",
        "\n",
        "A variable was something whose value can be changed and constant was something whose value remains fixed, like the number $5$, for example. No matter wherever and under any circumstance, when I write the number $5$, its value is the same. A variable on the other hand were represented by these letters, like $x$, $y$, or $z$. They can have any value based on what I assign to them. If I write $x = 5$, the value of $x$ will be $5$, but if I write $x=-98$, its value changess to $-98$.\n",
        "\n",
        "In CS, similar ideas exist. A variable is called a *variable*, but a constant is called as a *literal* in programming.\n",
        "\n",
        "Strings like `hello, world`, and numbers like `5`, or `-98` are all literals. The variables on the other hand are like a container that stores literals inside it.\n",
        "\n",
        "Once a variable stores a specific value, it gets equipped with all the characteristics of that value.\n",
        "\n",
        "Consider the following:"
      ],
      "metadata": {
        "id": "8v-DBoAWJQ2l"
      }
    },
    {
      "cell_type": "code",
      "source": [
        "i = 10\n",
        "print(i)\n",
        "f = 8.9\n",
        "print(f)\n",
        "s = 'python'\n",
        "print(s)\n",
        "b1 = True\n",
        "print(b1)\n",
        "b2 = False\n",
        "print(b2)"
      ],
      "metadata": {
        "colab": {
          "base_uri": "https://localhost:8080/"
        },
        "id": "5y1g5C99dbo-",
        "outputId": "a5b3cf8e-8efb-4946-8450-8a748af31bf0"
      },
      "execution_count": null,
      "outputs": [
        {
          "output_type": "stream",
          "name": "stdout",
          "text": [
            "10\n",
            "8.9\n",
            "python\n",
            "True\n",
            "False\n"
          ]
        }
      ]
    },
    {
      "cell_type": "markdown",
      "source": [
        "Each of the variables store a different type of value. Hence, if we ask Python the *type* of the variable, it will essentially, tell us the *type* of the value that is stored in it. The variables possess the characteristics of its values.\n",
        "\n",
        "Let us use the `type()` command on the variable."
      ],
      "metadata": {
        "id": "xDLkxqIPdqWr"
      }
    },
    {
      "cell_type": "code",
      "source": [
        "print(type(i))"
      ],
      "metadata": {
        "colab": {
          "base_uri": "https://localhost:8080/"
        },
        "id": "0Igs3wwEdoMA",
        "outputId": "d78959b2-4166-43a3-c548-3f0bd74f37d5"
      },
      "execution_count": null,
      "outputs": [
        {
          "output_type": "stream",
          "name": "stdout",
          "text": [
            "<class 'int'>\n"
          ]
        }
      ]
    },
    {
      "cell_type": "markdown",
      "source": [
        "It is saying that the variable `i` of the type `int` as expected.\n",
        "\n",
        "Note that, when it says that that variable `i` is of the type `int`, it essentially is referrring to the value it stores.\n",
        "\n",
        "I need to get this through my head that variables are just like containers, and when we use them in code, we are essentially dealing with the value it stores.\n",
        "\n",
        "Anyways, let me try checking the type of other variables."
      ],
      "metadata": {
        "id": "0EGV6gg-Hsto"
      }
    },
    {
      "cell_type": "code",
      "source": [
        "print(type(f))\n",
        "print(type(s))\n",
        "print(type(b1))\n",
        "print(type(b2))"
      ],
      "metadata": {
        "colab": {
          "base_uri": "https://localhost:8080/"
        },
        "id": "UAJm2D2fD-uv",
        "outputId": "9523b8be-7ef4-40c0-c883-4d2d4be391ba"
      },
      "execution_count": null,
      "outputs": [
        {
          "output_type": "stream",
          "name": "stdout",
          "text": [
            "<class 'float'>\n",
            "<class 'str'>\n",
            "<class 'bool'>\n",
            "<class 'bool'>\n"
          ]
        }
      ]
    },
    {
      "cell_type": "markdown",
      "source": [
        "Same as expected."
      ],
      "metadata": {
        "id": "zUwMyXksIghG"
      }
    },
    {
      "cell_type": "markdown",
      "source": [
        "**NOTE:** *integer*, *decimal*, and *string* is described by Python as `int`, `float`, and `str` respectively."
      ],
      "metadata": {
        "id": "D11Bj7z5EDmE"
      }
    },
    {
      "cell_type": "code",
      "source": [
        "print(\"'i' is of type:\", type(i))\n",
        "print(\"'f' is of type:\", type(f))\n",
        "print(\"'s' is of type:\", type(s))\n",
        "print(\"'b1' is of type: \", type(b1))\n",
        "print(\"'b2' is of type: \", type(b2))"
      ],
      "metadata": {
        "colab": {
          "base_uri": "https://localhost:8080/"
        },
        "id": "NIx8fIyoHPlk",
        "outputId": "6aa1db21-995d-4038-cdb9-1b869cf1c191"
      },
      "execution_count": null,
      "outputs": [
        {
          "output_type": "stream",
          "name": "stdout",
          "text": [
            "'i' is of type: <class 'int'>\n",
            "'f' is of type: <class 'float'>\n",
            "'s' is of type: <class 'str'>\n",
            "'b1' is of type:  <class 'bool'>\n",
            "'b2' is of type:  <class 'bool'>\n"
          ]
        }
      ]
    }
  ]
}