{
  "nbformat": 4,
  "nbformat_minor": 0,
  "metadata": {
    "colab": {
      "provenance": []
    },
    "kernelspec": {
      "name": "python3",
      "display_name": "Python 3"
    },
    "language_info": {
      "name": "python"
    }
  },
  "cells": [
    {
      "cell_type": "markdown",
      "source": [
        "---\n",
        "title: \"Type Conversion/Type Casting\"\n",
        "subtitle: Converting data from one type to another\n",
        "description: In this post I will be playing around with data conversions\n",
        "author: \"Abdullah Zeeshan\"\n",
        "date: \"2023-06-22\"\n",
        "categories: [coding]\n",
        "reading-time: True\n",
        "toc: true\n",
        "fig-align: center\n",
        "fig-cap-location: bottom\n",
        "---"
      ],
      "metadata": {
        "id": "CPi6nR4JUkGv"
      }
    },
    {
      "cell_type": "markdown",
      "source": [
        "![](conversion.jpg)\n",
        "\n",
        "I can convert all 4 data types from one type to another. Following are the possibilities.\n",
        "\n",
        "## 1 Converting Things Into `int`"
      ],
      "metadata": {
        "id": "IXfJyku0OEFX"
      }
    },
    {
      "cell_type": "markdown",
      "source": [
        "We are going to convert the data types `float`, `str`, and `bool` into `int` type. Look at the following:"
      ],
      "metadata": {
        "id": "fEeqVmZtOyyo"
      }
    },
    {
      "cell_type": "code",
      "execution_count": 2,
      "metadata": {
        "colab": {
          "base_uri": "https://localhost:8080/"
        },
        "id": "5EOieqYoNTlL",
        "outputId": "978a04b8-7702-4f40-cf88-dff017f1843c"
      },
      "outputs": [
        {
          "output_type": "stream",
          "name": "stdout",
          "text": [
            "5 <class 'int'>\n",
            "10 <class 'int'>\n",
            "1 <class 'int'>\n",
            "0 <class 'int'>\n"
          ]
        }
      ],
      "source": [
        "a = int(5.7)\n",
        "b = int('10')\n",
        "c = int(True)\n",
        "d = int(False)\n",
        "print(a, type(a))\n",
        "print(b, type(b))\n",
        "print(c, type(c))\n",
        "print(d, type(d))"
      ]
    },
    {
      "cell_type": "markdown",
      "source": [
        "Let me break this down.\n",
        "\n",
        "In the above lines, I have taken a different data type and asked the computer to convert it into an integer by passing it inside `int()`. The converted values are stored in the respective variables. Looks like each of the conversions are done differently. Let me examine each of them separately.\n",
        "\n",
        "### `float` to `int`\n",
        "\n",
        "When a `float` type is converted into an `int` type, the decimal goes away and just the whole part of stays.\n",
        "\n",
        "### `str` to `int`\n",
        "\n",
        "Only Strings that are numbers can be converted into `int` types. The following doesn't work."
      ],
      "metadata": {
        "id": "6c8TyCCyORMB"
      }
    },
    {
      "cell_type": "code",
      "source": [
        "x = int('hello')\n",
        "print(x, type(x))"
      ],
      "metadata": {
        "colab": {
          "base_uri": "https://localhost:8080/",
          "height": 183
        },
        "id": "lYOJbNYgQIiv",
        "outputId": "b8acddcf-5c0e-48ab-d185-b92c108e04e1"
      },
      "execution_count": 3,
      "outputs": [
        {
          "output_type": "error",
          "ename": "ValueError",
          "evalue": "ignored",
          "traceback": [
            "\u001b[0;31m---------------------------------------------------------------------------\u001b[0m",
            "\u001b[0;31mValueError\u001b[0m                                Traceback (most recent call last)",
            "\u001b[0;32m<ipython-input-3-6c6ce78eb2e1>\u001b[0m in \u001b[0;36m<cell line: 1>\u001b[0;34m()\u001b[0m\n\u001b[0;32m----> 1\u001b[0;31m \u001b[0mx\u001b[0m \u001b[0;34m=\u001b[0m \u001b[0mint\u001b[0m\u001b[0;34m(\u001b[0m\u001b[0;34m'hello'\u001b[0m\u001b[0;34m)\u001b[0m\u001b[0;34m\u001b[0m\u001b[0;34m\u001b[0m\u001b[0m\n\u001b[0m\u001b[1;32m      2\u001b[0m \u001b[0mprint\u001b[0m\u001b[0;34m(\u001b[0m\u001b[0mx\u001b[0m\u001b[0;34m,\u001b[0m \u001b[0mtype\u001b[0m\u001b[0;34m(\u001b[0m\u001b[0mx\u001b[0m\u001b[0;34m)\u001b[0m\u001b[0;34m)\u001b[0m\u001b[0;34m\u001b[0m\u001b[0;34m\u001b[0m\u001b[0m\n",
            "\u001b[0;31mValueError\u001b[0m: invalid literal for int() with base 10: 'hello'"
          ]
        }
      ]
    },
    {
      "cell_type": "markdown",
      "source": [
        "### `bool` to `int`\n",
        "\n",
        "The boolean value `True` is converted into an `int` as `1` and `False` is converted as `0`."
      ],
      "metadata": {
        "id": "4E8IUwwKQRf3"
      }
    },
    {
      "cell_type": "markdown",
      "source": [
        "## 2 Converting Things Into `str`"
      ],
      "metadata": {
        "id": "nUTZ5twBQv-t"
      }
    },
    {
      "cell_type": "markdown",
      "source": [
        "Now, I am going to convert the data types `int`, `float`, and `bool` into `str` type."
      ],
      "metadata": {
        "id": "nRipSqwTQv-u"
      }
    },
    {
      "cell_type": "code",
      "execution_count": 4,
      "metadata": {
        "colab": {
          "base_uri": "https://localhost:8080/"
        },
        "outputId": "96935f95-912a-4a2e-8c82-894283540b98",
        "id": "u2___9tEQv-v"
      },
      "outputs": [
        {
          "output_type": "stream",
          "name": "stdout",
          "text": [
            "5 <class 'str'>\n",
            "7.9 <class 'str'>\n",
            "True <class 'str'>\n",
            "False <class 'str'>\n"
          ]
        }
      ],
      "source": [
        "a = str(5)\n",
        "b = str(7.9)\n",
        "c = str(True)\n",
        "d = str(False)\n",
        "print(a, type(a))\n",
        "print(b, type(b))\n",
        "print(c, type(c))\n",
        "print(d, type(d))"
      ]
    },
    {
      "cell_type": "markdown",
      "source": [
        "This one seems pretty straightforward. All the values in terms of the structure are same but just the data type is changed."
      ],
      "metadata": {
        "id": "U6Hdpp2LQv-x"
      }
    },
    {
      "cell_type": "markdown",
      "source": [
        "## 3 Converting Things Into `float`"
      ],
      "metadata": {
        "id": "lSzQjX4xRexF"
      }
    },
    {
      "cell_type": "markdown",
      "source": [
        "We are going to convert the data types `int`, `str`, and `bool` into `float` type. Look at the following:"
      ],
      "metadata": {
        "id": "gIkXktErRexG"
      }
    },
    {
      "cell_type": "code",
      "execution_count": 5,
      "metadata": {
        "colab": {
          "base_uri": "https://localhost:8080/"
        },
        "outputId": "440cdb07-3922-4099-82c0-356c60349e9e",
        "id": "L7aFckdbRexH"
      },
      "outputs": [
        {
          "output_type": "stream",
          "name": "stdout",
          "text": [
            "13.0 <class 'float'>\n",
            "10.31 <class 'float'>\n",
            "1.0 <class 'float'>\n",
            "0.0 <class 'float'>\n"
          ]
        }
      ],
      "source": [
        "a = float(13)\n",
        "b = float('10.31')\n",
        "c = float(True)\n",
        "d = float(False)\n",
        "print(a, type(a))\n",
        "print(b, type(b))\n",
        "print(c, type(c))\n",
        "print(d, type(d))"
      ]
    },
    {
      "cell_type": "markdown",
      "source": [
        "Let me break this down.\n",
        "\n",
        "### `int` to `float`\n",
        "\n",
        "When a `int` type is converted into a `float` type, a decimal part is added right after the whole part.\n",
        "\n",
        "### `str` to `float`\n",
        "\n",
        "Again only strings that look like numbers can be converted into `float`. The following doesn't work."
      ],
      "metadata": {
        "id": "DDwNx4ruRexI"
      }
    },
    {
      "cell_type": "code",
      "source": [
        "x = float('hello')\n",
        "print(x, type(x))"
      ],
      "metadata": {
        "colab": {
          "base_uri": "https://localhost:8080/",
          "height": 183
        },
        "outputId": "5886cc7b-9145-4361-8943-90c7a2df7a63",
        "id": "xXr4HMbzRexJ"
      },
      "execution_count": 6,
      "outputs": [
        {
          "output_type": "error",
          "ename": "ValueError",
          "evalue": "ignored",
          "traceback": [
            "\u001b[0;31m---------------------------------------------------------------------------\u001b[0m",
            "\u001b[0;31mValueError\u001b[0m                                Traceback (most recent call last)",
            "\u001b[0;32m<ipython-input-6-d7ae27b3a6d8>\u001b[0m in \u001b[0;36m<cell line: 1>\u001b[0;34m()\u001b[0m\n\u001b[0;32m----> 1\u001b[0;31m \u001b[0mx\u001b[0m \u001b[0;34m=\u001b[0m \u001b[0mfloat\u001b[0m\u001b[0;34m(\u001b[0m\u001b[0;34m'hello'\u001b[0m\u001b[0;34m)\u001b[0m\u001b[0;34m\u001b[0m\u001b[0;34m\u001b[0m\u001b[0m\n\u001b[0m\u001b[1;32m      2\u001b[0m \u001b[0mprint\u001b[0m\u001b[0;34m(\u001b[0m\u001b[0mx\u001b[0m\u001b[0;34m,\u001b[0m \u001b[0mtype\u001b[0m\u001b[0;34m(\u001b[0m\u001b[0mx\u001b[0m\u001b[0;34m)\u001b[0m\u001b[0;34m)\u001b[0m\u001b[0;34m\u001b[0m\u001b[0;34m\u001b[0m\u001b[0m\n",
            "\u001b[0;31mValueError\u001b[0m: could not convert string to float: 'hello'"
          ]
        }
      ]
    },
    {
      "cell_type": "markdown",
      "source": [
        "### `bool` to `float`\n",
        "\n",
        "The boolean value `True` is converted into an `float` as `1.0` and `False` is converted as `0.0`."
      ],
      "metadata": {
        "id": "iUUXF6R7RexK"
      }
    },
    {
      "cell_type": "markdown",
      "source": [
        "## 4 Converting Things Into `bool`"
      ],
      "metadata": {
        "id": "hEJJxj25SR2q"
      }
    },
    {
      "cell_type": "markdown",
      "source": [
        "We are going to convert the data types `int`, `float`, and `str` into `bool` type. Look at the following:"
      ],
      "metadata": {
        "id": "xXfA-SymSR2s"
      }
    },
    {
      "cell_type": "code",
      "execution_count": 9,
      "metadata": {
        "colab": {
          "base_uri": "https://localhost:8080/"
        },
        "outputId": "1e7a413c-bf66-4921-d5d0-23aab0ba4161",
        "id": "Tyd_06XrSR2s"
      },
      "outputs": [
        {
          "output_type": "stream",
          "name": "stdout",
          "text": [
            "True <class 'bool'>\n",
            "True <class 'bool'>\n",
            "True <class 'bool'>\n",
            "True <class 'bool'>\n",
            "True <class 'bool'>\n"
          ]
        }
      ],
      "source": [
        "a = bool(5)\n",
        "b = bool(9.8)\n",
        "c = bool('True')\n",
        "d = bool('False')\n",
        "e = bool('0')\n",
        "print(a, type(a))\n",
        "print(b, type(b))\n",
        "print(c, type(c))\n",
        "print(d, type(d))\n",
        "print(e, type(e))"
      ]
    },
    {
      "cell_type": "markdown",
      "source": [
        "Damn! All are converted into `bool` as `True`. Even the strings `False` and `0`!\n",
        "\n",
        "When will they be false?! Turns out *only* in the following situations:"
      ],
      "metadata": {
        "id": "xZdMUz-8SR2t"
      }
    },
    {
      "cell_type": "code",
      "source": [
        "a = bool(0)\n",
        "b = bool(0.0)\n",
        "c = bool('')\n",
        "print(a, type(a))\n",
        "print(b, type(b))\n",
        "print(c, type(c))"
      ],
      "metadata": {
        "colab": {
          "base_uri": "https://localhost:8080/"
        },
        "id": "0pV-bvvESR2v",
        "outputId": "acc4ec4a-82fb-48e9-f098-6310ee7f0c71"
      },
      "execution_count": 8,
      "outputs": [
        {
          "output_type": "stream",
          "name": "stdout",
          "text": [
            "False <class 'bool'>\n",
            "False <class 'bool'>\n",
            "False <class 'bool'>\n"
          ]
        }
      ]
    },
    {
      "cell_type": "markdown",
      "source": [
        "In the third line I have basically passed an *empty* string. It has no characters.\n",
        "\n",
        "Looks like all *null* values are converted as `False`. Let me wrap this up.\n",
        "\n",
        "### `int` to `bool`\n",
        "\n",
        "**All** `int` values except `0` are converted into `bool` as `True`. Only `0` is `False`.\n",
        "\n",
        "### `float` to `bool`\n",
        "\n",
        "**All** `float` values except `0.0` are converted into `bool` as `True`. Only `0.0` is `False`.\n",
        "\n",
        "### `str` to `bool`\n",
        "\n",
        "**All** `str` values except `''` (or `\"\"`) are converted into `bool` as `True`. Only `''` (or `\"\"`) is `False`."
      ],
      "metadata": {
        "id": "ewipqXGyTf1F"
      }
    }
  ]
}