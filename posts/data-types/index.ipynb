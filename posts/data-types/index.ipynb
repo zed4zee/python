{
  "nbformat": 4,
  "nbformat_minor": 0,
  "metadata": {
    "colab": {
      "provenance": []
    },
    "kernelspec": {
      "name": "python3",
      "display_name": "Python 3"
    },
    "language_info": {
      "name": "python"
    }
  },
  "cells": [
    {
      "cell_type": "markdown",
      "source": [
        "---\n",
        "title: \"Oh! The Types Of Data\"\n",
        "subtitle: Exploring various data types in Python\n",
        "description: Using the `type()` function.\n",
        "author: \"Abdullah Zeeshan\"\n",
        "date: \"2023-06-22\"\n",
        "categories: [coding]\n",
        "reading-time: True\n",
        "toc: true\n",
        "fig-align: center\n",
        "fig-cap-location: bottom\n",
        "---\n",
        "\n"
      ],
      "metadata": {
        "id": "bii5rh3XkbQN"
      }
    },
    {
      "cell_type": "markdown",
      "source": [
        "![](data_types.jpg)\n",
        "\n",
        "When playing around with the `print()` command, I tried to display different types of things. I displayed *integer* numbers like `10`, *decimal* numbers like `1.5`, and words or sentences like `Apple` or `Hi, how are you?`, which were called as *strings*.\n",
        "\n",
        "Can Python itself distinguish and know these different types?! Let me find out!\n",
        "\n",
        "In order to do this, there is a function called `type()` that I will use, which takes any data value as input and returns its type.\n",
        "\n",
        "## Integer"
      ],
      "metadata": {
        "id": "Tb4RWiD-HesR"
      }
    },
    {
      "cell_type": "code",
      "source": [
        "print(type(10))"
      ],
      "metadata": {
        "colab": {
          "base_uri": "https://localhost:8080/"
        },
        "id": "CEgpDg-wmaVs",
        "outputId": "a37b6951-28c8-4e26-c919-d98462be50b4"
      },
      "execution_count": null,
      "outputs": [
        {
          "output_type": "stream",
          "name": "stdout",
          "text": [
            "<class 'int'>\n"
          ]
        }
      ]
    },
    {
      "cell_type": "markdown",
      "source": [
        "Ignoring the cryptic symbols, it is saying that the value `10` is of the type `int`, which is a shortform for an *integer*. Sounds about right! Let me try other values.\n",
        "\n",
        "## Decimals"
      ],
      "metadata": {
        "id": "utultT44mk8n"
      }
    },
    {
      "cell_type": "code",
      "source": [
        "print(type(1.5))"
      ],
      "metadata": {
        "colab": {
          "base_uri": "https://localhost:8080/"
        },
        "id": "02QhMxubmwac",
        "outputId": "4ccb0cc1-6f7f-4d52-c147-f393b2a92df2"
      },
      "execution_count": null,
      "outputs": [
        {
          "output_type": "stream",
          "name": "stdout",
          "text": [
            "<class 'float'>\n"
          ]
        }
      ]
    },
    {
      "cell_type": "markdown",
      "source": [
        "Python interprets a *decimal* number as a `float`. A *float* or a *floating number* is a number that has a decimal part along with the integer part.\n",
        "\n",
        "Decimal numbers like `0.2`, `-9.765`, `3.14`, etc are all *floating numbers* or simply a `float` from computer's perspective."
      ],
      "metadata": {
        "id": "AQ5NXrsfnNhY"
      }
    },
    {
      "cell_type": "code",
      "source": [
        "print(type(0.2))\n",
        "print(type(-9.765))\n",
        "print(type(3.14))"
      ],
      "metadata": {
        "colab": {
          "base_uri": "https://localhost:8080/"
        },
        "id": "woe0LIWlnxJc",
        "outputId": "0d4350b2-603b-41d0-b78b-b80fd501e715"
      },
      "execution_count": null,
      "outputs": [
        {
          "output_type": "stream",
          "name": "stdout",
          "text": [
            "<class 'float'>\n",
            "<class 'float'>\n",
            "<class 'float'>\n"
          ]
        }
      ]
    },
    {
      "cell_type": "markdown",
      "source": [
        "## Strings\n",
        "\n",
        "Next up let us try how Python understands our strings like `Apple`."
      ],
      "metadata": {
        "id": "RtpVr_jwn73S"
      }
    },
    {
      "cell_type": "code",
      "source": [
        "print(type(\"Apple\"))"
      ],
      "metadata": {
        "colab": {
          "base_uri": "https://localhost:8080/"
        },
        "id": "JN0HdjvWoFiP",
        "outputId": "106d8a11-f27e-4a55-a988-5cb30a637410"
      },
      "execution_count": null,
      "outputs": [
        {
          "output_type": "stream",
          "name": "stdout",
          "text": [
            "<class 'str'>\n"
          ]
        }
      ]
    },
    {
      "cell_type": "markdown",
      "source": [
        "Python says that `Apple` is of type `str`, which is a short form of *string*.\n",
        "\n",
        "This is all cool.\n",
        "\n",
        "A question that I can ask is are there any other types of data?! Or is it just these 3, `int`, `float`, and `str`?!\n",
        "\n",
        "## Boolean\n",
        "\n",
        "Turns out we have another data type as well called as a *boolean* data type. They take only two values, unline the above 3, which take, infinite values. The two values they take are `True` and `False`, *with* the capital letters.\n",
        "\n",
        "Let me try these."
      ],
      "metadata": {
        "id": "LxTMjQcyoM93"
      }
    },
    {
      "cell_type": "code",
      "source": [
        "print(type(True))\n",
        "print(type(False))"
      ],
      "metadata": {
        "colab": {
          "base_uri": "https://localhost:8080/"
        },
        "id": "5TI7kpxqoMfS",
        "outputId": "b32e5eeb-1b6e-4691-cc0e-3c3827248c42"
      },
      "execution_count": null,
      "outputs": [
        {
          "output_type": "stream",
          "name": "stdout",
          "text": [
            "<class 'bool'>\n",
            "<class 'bool'>\n"
          ]
        }
      ]
    },
    {
      "cell_type": "markdown",
      "source": [
        "Nice, `bool` is a short form for *boolean*.\n",
        "\n",
        "These data types are very useful in situations were binary stuff like True/False, 0/1, etc are required. This will be expl...\n",
        "\n",
        "## A Closer Look.\n",
        "\n",
        "I have never specified the computer or Python the *type* of value I was using. I just went ahead and used them. It seems like the computer has automatically recognized this. Now why would it do that?! The answer is as follows.\n",
        "\n",
        "Imagine if I had to create some containers, one for storing rice and the other for storing some liquid, for example. Both of these containers must have different physical properties and charecteristics. A rice container should be free of moisture.\n",
        "\n",
        "The computer does a similar thing when storing data in its memory. It just doesn't store any data in any memory structure or container so to stay. WHenever a value is given, it first recognizes its type and creates a special kind of container based on its nature. Without getting too much technical, what it does is some tweaking in the memory. `int` is stored differently inside the memory when compared to `float` and `str`.\n",
        "\n",
        "Hence, it has to know the type of data it is thrown at and we can know what it is knowing with the `type()` command.\n",
        "\n",
        "I will look into this in detail later."
      ],
      "metadata": {
        "id": "TPq7v4xto9Ae"
      }
    }
  ]
}