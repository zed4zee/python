{
  "nbformat": 4,
  "nbformat_minor": 0,
  "metadata": {
    "colab": {
      "provenance": []
    },
    "kernelspec": {
      "name": "python3",
      "display_name": "Python 3"
    },
    "language_info": {
      "name": "python"
    }
  },
  "cells": [
    {
      "cell_type": "markdown",
      "source": [
        "---\n",
        "title: \"Code Interactivity\"\n",
        "subtitle: Taking inputs from the user\n",
        "description: Using the `input()` command and its variants\n",
        "author: \"Abdullah Zeeshan\"\n",
        "date: \"2023-06-22\"\n",
        "categories: [coding]\n",
        "reading-time: True\n",
        "toc: true\n",
        "fig-align: center\n",
        "fig-cap-location: bottom\n",
        "---"
      ],
      "metadata": {
        "id": "OZeGgnx8XoYz"
      }
    },
    {
      "cell_type": "markdown",
      "source": [
        "![](input.jpg)\n",
        "\n",
        "What I have seen so far was printing stuff that *I* wanted to put. There was no interactivity with another user. In order to do this we need to take inputs from a user. This will be explored now.\n",
        "\n",
        "Consider the following code:"
      ],
      "metadata": {
        "id": "gRrDqZEciXrH"
      }
    },
    {
      "cell_type": "code",
      "source": [
        "print(\"Enter a number: \")\n",
        "n = input()\n",
        "print(n)"
      ],
      "metadata": {
        "colab": {
          "base_uri": "https://localhost:8080/"
        },
        "id": "CVATlq13XmvS",
        "outputId": "26893cc3-f10f-4064-e354-ea5a0b1975dc"
      },
      "execution_count": null,
      "outputs": [
        {
          "output_type": "stream",
          "name": "stdout",
          "text": [
            "Enter a number: \n",
            "100\n",
            "100\n"
          ]
        }
      ]
    },
    {
      "cell_type": "markdown",
      "source": [
        "The first line is the usual one that prints a message `Enter a number: `. At this point in order to make my code interactive, it would be better if I can make the user enter a number s/he wishes. To do that I must ask the computer to do something like *take an input from the user*. In order to do this I use `n = input()` in the second line. which is a way of telling the computer to do the following:\n",
        "\n",
        "- Ask the user for an input, with the `input()` bit in the line.\n",
        "- And store that value in the variable called `n`.\n",
        "\n",
        "When the computer runs this line, it waits for the user to enter an input by prompting it. It doesn't move ahead untill the user enters a number and presses enter.\n",
        "\n",
        "Once this is done, since the value is stored in the variable `n`, I can just print it, which is what I have done.\n",
        "\n",
        "A question that can be asked here is, what if the user doesn't enter a number but enters a string?!\n",
        "\n",
        "Let me try that."
      ],
      "metadata": {
        "id": "ijfAaLPAizAT"
      }
    },
    {
      "cell_type": "code",
      "source": [
        "print(\"Enter a number: \")\n",
        "n = input()\n",
        "print(n)"
      ],
      "metadata": {
        "colab": {
          "base_uri": "https://localhost:8080/"
        },
        "id": "gqtgmVTZ_oGp",
        "outputId": "6a1cda54-4f4d-43b4-ccaa-aee1ae6fbefe"
      },
      "execution_count": null,
      "outputs": [
        {
          "output_type": "stream",
          "name": "stdout",
          "text": [
            "Enter a number: \n",
            "Hello\n",
            "Hello\n"
          ]
        }
      ]
    },
    {
      "cell_type": "markdown",
      "source": [
        "Seems like our `input()` command is accepting any type of data the user inputs. Wait a second! Is it treating all of them as `str` types?!\n",
        "\n",
        "Let me do a quick check!"
      ],
      "metadata": {
        "id": "G3pLzXNe_0AY"
      }
    },
    {
      "cell_type": "code",
      "source": [
        "print(\"Enter a number: \")\n",
        "n = input()\n",
        "print(n)\n",
        "print(type(n))"
      ],
      "metadata": {
        "colab": {
          "base_uri": "https://localhost:8080/"
        },
        "id": "hVo4rVPWAf6K",
        "outputId": "85df573c-456f-4334-b779-ae5c6a257d51"
      },
      "execution_count": null,
      "outputs": [
        {
          "output_type": "stream",
          "name": "stdout",
          "text": [
            "Enter a number: \n",
            "100\n",
            "100\n",
            "<class 'str'>\n"
          ]
        }
      ]
    },
    {
      "cell_type": "markdown",
      "source": [
        "Oh no! It is treating everything as a `str`.\n",
        "\n",
        "In order to change this and prompt the user a specific type of data, I need to make the following modification."
      ],
      "metadata": {
        "id": "msrn__q-AnX9"
      }
    },
    {
      "cell_type": "code",
      "source": [
        "print(\"Enter a number: \")\n",
        "n = int(input())\n",
        "print(n)"
      ],
      "metadata": {
        "colab": {
          "base_uri": "https://localhost:8080/"
        },
        "id": "qnEOlZvZX5Lu",
        "outputId": "607793f4-ed44-4a03-eccc-758d947a377a"
      },
      "execution_count": null,
      "outputs": [
        {
          "output_type": "stream",
          "name": "stdout",
          "text": [
            "Enter a number: \n",
            "100\n",
            "100\n"
          ]
        }
      ]
    },
    {
      "cell_type": "markdown",
      "source": [
        "Now, the computer does the following:\n",
        "\n",
        "- Ask the user for an input, with the `input()` bit in the line.\n",
        "- Convert that input into an integer, with `int(input())` bit.\n",
        "- And store that value in the variable called `n`.\n",
        "\n",
        "This way, the computer *recasts*, the input value from a string to an integer. All the recasting concepts can be applied here based on the needs.\n",
        "\n",
        "LEt me play with this a lil' bit."
      ],
      "metadata": {
        "id": "lHG5L9e1Kgbf"
      }
    },
    {
      "cell_type": "code",
      "source": [
        "print(\"Hello! What is your name?\")\n",
        "n = str(input())\n",
        "print(n)"
      ],
      "metadata": {
        "colab": {
          "base_uri": "https://localhost:8080/"
        },
        "id": "ZeLa--ANYLlV",
        "outputId": "45b42ed2-3a13-49a0-b4c2-e080a8f7b08f"
      },
      "execution_count": null,
      "outputs": [
        {
          "output_type": "stream",
          "name": "stdout",
          "text": [
            "Hello! What is your name?\n",
            "Zeeshan\n",
            "Zeeshan\n"
          ]
        }
      ]
    },
    {
      "cell_type": "markdown",
      "source": [
        "Since I have asked the user for a name, it must be of the type `str`, that is why I asked it to convert the input as an `str`. I need not have put that because as we have seen above, by default with just the `input()` bit it takes strings as inputs."
      ],
      "metadata": {
        "id": "NZQLMKVq-xfU"
      }
    },
    {
      "cell_type": "code",
      "source": [
        "print(\"Hello! What is your name?\")\n",
        "n = str(input())\n",
        "print(\"Hello\", n)"
      ],
      "metadata": {
        "colab": {
          "base_uri": "https://localhost:8080/"
        },
        "id": "XrtEPDnxYaxC",
        "outputId": "b4fa00ef-d53e-4ae9-aa16-86f469ff14c8"
      },
      "execution_count": null,
      "outputs": [
        {
          "output_type": "stream",
          "name": "stdout",
          "text": [
            "Hello! What is your name?\n",
            "Zeeshan\n",
            "Hello Zeeshan\n"
          ]
        }
      ]
    },
    {
      "cell_type": "code",
      "source": [
        "print(\"Hello! What is your name?\")\n",
        "n = str(input())\n",
        "print(\"Hello\", n, \"How are you?\")"
      ],
      "metadata": {
        "colab": {
          "base_uri": "https://localhost:8080/"
        },
        "id": "sDUq-yHEYloN",
        "outputId": "16192b5f-4d08-4d50-d297-592b535b142f"
      },
      "execution_count": null,
      "outputs": [
        {
          "output_type": "stream",
          "name": "stdout",
          "text": [
            "Hello! What is your name?\n",
            "Zeeshan\n",
            "Hello Zeeshan How are you?\n"
          ]
        }
      ]
    },
    {
      "cell_type": "code",
      "source": [
        "print(\"Hello! What is your name?\")\n",
        "n = str(input())\n",
        "print(\"Where are you staying?\")\n",
        "p = str(input())\n",
        "print(\"Hello\", n, \"How is the weather in\", p, \"?\")"
      ],
      "metadata": {
        "colab": {
          "base_uri": "https://localhost:8080/"
        },
        "id": "dNvzh9SGYsD0",
        "outputId": "a79082f0-ada2-4bf7-aa3a-4fa2be12b05b"
      },
      "execution_count": null,
      "outputs": [
        {
          "output_type": "stream",
          "name": "stdout",
          "text": [
            "Hello! What is your name?\n",
            "Zeeshan\n",
            "Where are you staying?\n",
            "Hyderabad\n",
            "Hello Zeeshan How is the weather in Hyderabad ?\n"
          ]
        }
      ]
    },
    {
      "cell_type": "code",
      "source": [
        "print(\"Hello! What is your name?\")\n",
        "n = str(input())\n",
        "print(\"Where are you staying?\")\n",
        "p = str(input())\n",
        "print(\"Hello\", n, \"How is the weather in\", p, \"?\")\n",
        "print(\"What is your age?\")\n",
        "age = int(input())\n",
        "print(\"Good to know you are\", age, \"years old!\")"
      ],
      "metadata": {
        "colab": {
          "base_uri": "https://localhost:8080/"
        },
        "id": "UkcPF7_RZsha",
        "outputId": "6f9128db-1501-4b06-bf2b-ed3b3cd99e90"
      },
      "execution_count": null,
      "outputs": [
        {
          "output_type": "stream",
          "name": "stdout",
          "text": [
            "Hello! What is your name?\n",
            "Zeeshan\n",
            "Where are you staying?\n",
            "Hyderabad\n",
            "Hello Zeeshan How is the weather in Hyderabad ?\n",
            "What is your age?\n",
            "90\n",
            "Good to know you are 90 years old!\n"
          ]
        }
      ]
    },
    {
      "cell_type": "markdown",
      "source": [
        "## Merging print and inputs in a single command\n",
        "\n",
        "Instead doing the following separately:"
      ],
      "metadata": {
        "id": "EEcT-6t-aSWt"
      }
    },
    {
      "cell_type": "code",
      "source": [
        "print(\"Enter a number: \")\n",
        "n = int(input())"
      ],
      "metadata": {
        "colab": {
          "base_uri": "https://localhost:8080/"
        },
        "id": "vHpzW7MaCeer",
        "outputId": "4a07a254-4eef-4862-82bd-cb1a1b1179ed"
      },
      "execution_count": null,
      "outputs": [
        {
          "name": "stdout",
          "output_type": "stream",
          "text": [
            "Enter a number: \n",
            "8\n"
          ]
        }
      ]
    },
    {
      "cell_type": "markdown",
      "source": [
        "I can merge as follows:"
      ],
      "metadata": {
        "id": "zmK6NJlUCpYL"
      }
    },
    {
      "cell_type": "code",
      "source": [
        "n = int(input(\"Enter a number: \"))"
      ],
      "metadata": {
        "colab": {
          "base_uri": "https://localhost:8080/"
        },
        "id": "XD8M04yTC2zp",
        "outputId": "ae27f578-92f2-44a6-c0ea-21e6bb7dc817"
      },
      "execution_count": null,
      "outputs": [
        {
          "name": "stdout",
          "output_type": "stream",
          "text": [
            "Enter a number: 8\n"
          ]
        }
      ]
    },
    {
      "cell_type": "markdown",
      "source": [
        "Let me remodify what I did earlier."
      ],
      "metadata": {
        "id": "cMKZ88m4C_Op"
      }
    },
    {
      "cell_type": "code",
      "source": [
        "n = str(input(\"Hello! What is your name?\"))\n",
        "p = str(input(\"Where do you stay\"))\n",
        "print(\"Hello\", n, \"How is the weather in\", p)\n",
        "age = int(input(\"How old are you?\"))\n",
        "print(\"Good to know you are\", age, \"years old!\")"
      ],
      "metadata": {
        "colab": {
          "base_uri": "https://localhost:8080/"
        },
        "id": "681Y0yqtY6D-",
        "outputId": "496a6c2f-d11d-45db-d558-1b7b9a202ca4"
      },
      "execution_count": null,
      "outputs": [
        {
          "output_type": "stream",
          "name": "stdout",
          "text": [
            "Hello! What is your name?Zeeshan\n",
            "Where do you stayHyderabad\n",
            "Hello Zeeshan How is the weather in Hyderabad\n",
            "How old are you?90\n",
            "Good to know you are 90 years old!\n"
          ]
        }
      ]
    },
    {
      "cell_type": "markdown",
      "source": [
        "Looks good!\n",
        "\n",
        "However, I cannot pass multiple strings."
      ],
      "metadata": {
        "id": "BAxDOVq4DDBB"
      }
    },
    {
      "cell_type": "code",
      "source": [
        "n = str(input(\"Hello\", \"What is your name?\"))"
      ],
      "metadata": {
        "colab": {
          "base_uri": "https://localhost:8080/",
          "height": 166
        },
        "id": "1rpXFhMBbF5-",
        "outputId": "0675e32a-5b17-4352-9940-49b31d339a32"
      },
      "execution_count": null,
      "outputs": [
        {
          "output_type": "error",
          "ename": "TypeError",
          "evalue": "ignored",
          "traceback": [
            "\u001b[0;31m---------------------------------------------------------------------------\u001b[0m",
            "\u001b[0;31mTypeError\u001b[0m                                 Traceback (most recent call last)",
            "\u001b[0;32m<ipython-input-4-5e5a957e983b>\u001b[0m in \u001b[0;36m<cell line: 1>\u001b[0;34m()\u001b[0m\n\u001b[0;32m----> 1\u001b[0;31m \u001b[0mn\u001b[0m \u001b[0;34m=\u001b[0m \u001b[0mstr\u001b[0m\u001b[0;34m(\u001b[0m\u001b[0minput\u001b[0m\u001b[0;34m(\u001b[0m\u001b[0;34m\"Hello\"\u001b[0m\u001b[0;34m,\u001b[0m \u001b[0;34m\"What is your name?\"\u001b[0m\u001b[0;34m)\u001b[0m\u001b[0;34m)\u001b[0m\u001b[0;34m\u001b[0m\u001b[0;34m\u001b[0m\u001b[0m\n\u001b[0m",
            "\u001b[0;31mTypeError\u001b[0m: Kernel.raw_input() takes from 1 to 2 positional arguments but 3 were given"
          ]
        }
      ]
    },
    {
      "cell_type": "markdown",
      "source": [
        "I can pass numbers as well. But again only one."
      ],
      "metadata": {
        "id": "ncfXCUxEDaOr"
      }
    },
    {
      "cell_type": "code",
      "source": [
        "n = str(input(100))"
      ],
      "metadata": {
        "colab": {
          "base_uri": "https://localhost:8080/"
        },
        "id": "8SsDdtICbecX",
        "outputId": "51498d2f-4069-4a76-f4ce-e24fc0883b18"
      },
      "execution_count": null,
      "outputs": [
        {
          "name": "stdout",
          "output_type": "stream",
          "text": [
            "100Hundred\n"
          ]
        }
      ]
    },
    {
      "cell_type": "markdown",
      "source": [
        "## Area Of Circle"
      ],
      "metadata": {
        "id": "1nKcByB8L4JD"
      }
    },
    {
      "cell_type": "code",
      "source": [
        "r = int(input(\"Enter radius of a circle: \"))\n",
        "a = 3.14 * r * r\n",
        "print(\"Area of a circle with radius\", r, \"is\", a)"
      ],
      "metadata": {
        "colab": {
          "base_uri": "https://localhost:8080/"
        },
        "id": "bLW_Yjabbn1E",
        "outputId": "af931362-83be-40cc-f4a2-1deca94e7083"
      },
      "execution_count": null,
      "outputs": [
        {
          "output_type": "stream",
          "name": "stdout",
          "text": [
            "Enter radius of a circle: 20\n",
            "Area of a circle with radius 20 is 1256.0\n"
          ]
        }
      ]
    }
  ]
}