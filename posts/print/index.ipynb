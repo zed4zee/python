{
  "nbformat": 4,
  "nbformat_minor": 0,
  "metadata": {
    "colab": {
      "provenance": []
    },
    "kernelspec": {
      "name": "python3",
      "display_name": "Python 3"
    },
    "language_info": {
      "name": "python"
    }
  },
  "cells": [
    {
      "cell_type": "markdown",
      "source": [
        "---\n",
        "title: \"Playing With The print Command\"\n",
        "subtitle: Day 1 of re-learning coding\n",
        "description: I got started with coding and toyed around printing various stuff.\n",
        "author: \"Abdullah Zeeshan\"\n",
        "date: \"2023-06-21\"\n",
        "categories: [coding]\n",
        "reading-time: True\n",
        "toc: true\n",
        "fig-align: center\n",
        "fig-cap-location: bottom\n",
        "---\n"
      ],
      "metadata": {
        "id": "D2GOcjVzOyFQ"
      }
    },
    {
      "cell_type": "markdown",
      "source": [
        "Let me begin my first Python code, the classical `hello, world` program."
      ],
      "metadata": {
        "id": "drjZe23IF6OL"
      }
    },
    {
      "cell_type": "code",
      "execution_count": null,
      "metadata": {
        "colab": {
          "base_uri": "https://localhost:8080/"
        },
        "id": "h8XpB7GBjfKq",
        "outputId": "e7e1798b-6c2a-4f9e-e61e-c581b86fc3ff"
      },
      "outputs": [
        {
          "output_type": "stream",
          "name": "stdout",
          "text": [
            "hello, world\n"
          ]
        }
      ],
      "source": [
        "print('hello, world')"
      ]
    },
    {
      "cell_type": "markdown",
      "source": [
        "What is happening here?!\n",
        "\n",
        "Seems like whatever I type, inside the single quotes `''`, the computer outputs that exact thing.\n",
        "\n",
        "Let me try some other stuff."
      ],
      "metadata": {
        "id": "XRhqTHxlpbTQ"
      }
    },
    {
      "cell_type": "code",
      "source": [
        "print('Namasthey India')"
      ],
      "metadata": {
        "colab": {
          "base_uri": "https://localhost:8080/"
        },
        "id": "ixeCdPBKjrda",
        "outputId": "7f5f81f6-eaab-49d2-b5a6-32de93a45381"
      },
      "execution_count": null,
      "outputs": [
        {
          "output_type": "stream",
          "name": "stdout",
          "text": [
            "Namasthey India\n"
          ]
        }
      ]
    },
    {
      "cell_type": "code",
      "source": [
        "print('My name is Zeeshan.')"
      ],
      "metadata": {
        "colab": {
          "base_uri": "https://localhost:8080/"
        },
        "id": "lJhZAxvnp0zW",
        "outputId": "7546dbd8-57e0-4733-84c1-72b7c98267be"
      },
      "execution_count": null,
      "outputs": [
        {
          "output_type": "stream",
          "name": "stdout",
          "text": [
            "My name is Zeeshan.\n"
          ]
        }
      ]
    },
    {
      "cell_type": "markdown",
      "source": [
        "Do I really need those single quotes?!\n",
        "\n",
        "Let me try!"
      ],
      "metadata": {
        "id": "jxmJjJY0zfkt"
      }
    },
    {
      "cell_type": "code",
      "source": [
        "print(Message without quotes)"
      ],
      "metadata": {
        "colab": {
          "base_uri": "https://localhost:8080/",
          "height": 131
        },
        "id": "kHvYauZNzkmJ",
        "outputId": "d4d089d5-d2db-42fd-d739-9dc93f747820"
      },
      "execution_count": null,
      "outputs": [
        {
          "output_type": "error",
          "ename": "SyntaxError",
          "evalue": "ignored",
          "traceback": [
            "\u001b[0;36m  File \u001b[0;32m\"<ipython-input-18-79143b87b059>\"\u001b[0;36m, line \u001b[0;32m1\u001b[0m\n\u001b[0;31m    print(Message without quotes)\u001b[0m\n\u001b[0m          ^\u001b[0m\n\u001b[0;31mSyntaxError\u001b[0m\u001b[0;31m:\u001b[0m invalid syntax. Perhaps you forgot a comma?\n"
          ]
        }
      ]
    },
    {
      "cell_type": "markdown",
      "source": [
        "Oops! Looks like I do need those quotes. Let us keep them."
      ],
      "metadata": {
        "id": "mrlHFqQ_z8BC"
      }
    },
    {
      "cell_type": "code",
      "source": [
        "print('I am sorry! I will put you back here.')"
      ],
      "metadata": {
        "colab": {
          "base_uri": "https://localhost:8080/"
        },
        "id": "HmL1jgU_z7QV",
        "outputId": "081c8676-d240-47af-c75d-7229c5ee43f0"
      },
      "execution_count": null,
      "outputs": [
        {
          "output_type": "stream",
          "name": "stdout",
          "text": [
            "I am sorry! I will put you back here.\n"
          ]
        }
      ]
    },
    {
      "cell_type": "markdown",
      "source": [
        "Works well."
      ],
      "metadata": {
        "id": "IMLN3WNj0EMP"
      }
    },
    {
      "cell_type": "markdown",
      "source": [
        "## Multiple Lines\n",
        "\n",
        "Let me try multiple lines."
      ],
      "metadata": {
        "id": "jeEDn2m0QZ83"
      }
    },
    {
      "cell_type": "code",
      "source": [
        "print('This is the first line.')\n",
        "print('This is the second line.')"
      ],
      "metadata": {
        "colab": {
          "base_uri": "https://localhost:8080/"
        },
        "id": "RbwZeCo2j2wG",
        "outputId": "daa5c539-a15b-4cac-8438-d4b6dee54004"
      },
      "execution_count": null,
      "outputs": [
        {
          "output_type": "stream",
          "name": "stdout",
          "text": [
            "This is the first line.\n",
            "This is the second line.\n"
          ]
        }
      ]
    },
    {
      "cell_type": "markdown",
      "source": [
        "It outputs stuff on a new line. Nice!\n",
        "\n",
        "## Can Pass Pretty Much Anything\n",
        "\n",
        "Let me try printing gibberish characters from the keyboard."
      ],
      "metadata": {
        "id": "z20WSC9ZkVtN"
      }
    },
    {
      "cell_type": "code",
      "source": [
        "print('fhiuerdjn?><:{}djhrj%^&*GHYUh^*&^%$%^&<>:{}}|~!@')"
      ],
      "metadata": {
        "colab": {
          "base_uri": "https://localhost:8080/"
        },
        "id": "CbmBHUNlkAOP",
        "outputId": "c9f31232-8be2-4bde-d526-460c7344c0dc"
      },
      "execution_count": null,
      "outputs": [
        {
          "output_type": "stream",
          "name": "stdout",
          "text": [
            "fhiuerdjn?><:{}djhrj%^&*GHYUh^*&^%$%^&<>:{}}|~!@\n"
          ]
        }
      ]
    },
    {
      "cell_type": "markdown",
      "source": [
        "Seems all great! What else, can I ask it to print?! Let me try numbers.\n",
        "\n",
        "## Numbers"
      ],
      "metadata": {
        "id": "okf_KWg7rqJX"
      }
    },
    {
      "cell_type": "code",
      "source": [
        "print('10')"
      ],
      "metadata": {
        "colab": {
          "base_uri": "https://localhost:8080/"
        },
        "id": "odkvgEd5xv4m",
        "outputId": "4dea3ec9-a2dd-434d-e759-c3eb3f96e55a"
      },
      "execution_count": null,
      "outputs": [
        {
          "output_type": "stream",
          "name": "stdout",
          "text": [
            "10\n"
          ]
        }
      ]
    },
    {
      "cell_type": "markdown",
      "source": [
        "Works well! Do I need the quotes?!"
      ],
      "metadata": {
        "id": "avbV6AaEx6QK"
      }
    },
    {
      "cell_type": "code",
      "source": [
        "print(10)"
      ],
      "metadata": {
        "colab": {
          "base_uri": "https://localhost:8080/"
        },
        "id": "9sx2eBxYrwFk",
        "outputId": "4a097206-b69b-45a7-ee3a-ca52d4644cda"
      },
      "execution_count": null,
      "outputs": [
        {
          "output_type": "stream",
          "name": "stdout",
          "text": [
            "10\n"
          ]
        }
      ]
    },
    {
      "cell_type": "markdown",
      "source": [
        "Yay! Looks like I don't!\n",
        "\n",
        "For letters and other characters, it needs quotes, but for numbers it works fine with and without quotes.\n",
        "\n",
        "There must be a difference though. Infact there is, I know there is, because this is not the first time I am doing this. Let me explore this ahead.\n",
        "\n",
        "So, it is returning numbers as well. All types of numbers?! Let me try. I shall stick with not using quotes for numbers.\n",
        "\n",
        "### Integers"
      ],
      "metadata": {
        "id": "62Z2O9ddrx-N"
      }
    },
    {
      "cell_type": "code",
      "source": [
        "print(25)"
      ],
      "metadata": {
        "colab": {
          "base_uri": "https://localhost:8080/"
        },
        "id": "hEk5sHIxEEBY",
        "outputId": "7fd92018-8e78-47bf-e9c1-dc7a0730148a"
      },
      "execution_count": null,
      "outputs": [
        {
          "output_type": "stream",
          "name": "stdout",
          "text": [
            "25\n"
          ]
        }
      ]
    },
    {
      "cell_type": "code",
      "source": [
        "print(113457580)"
      ],
      "metadata": {
        "colab": {
          "base_uri": "https://localhost:8080/"
        },
        "id": "93-TO8vhBg76",
        "outputId": "f486e23c-0cb2-4ae6-cafe-ca168bc9237b"
      },
      "execution_count": null,
      "outputs": [
        {
          "output_type": "stream",
          "name": "stdout",
          "text": [
            "113457580\n"
          ]
        }
      ]
    },
    {
      "cell_type": "code",
      "source": [
        "print(-7)"
      ],
      "metadata": {
        "colab": {
          "base_uri": "https://localhost:8080/"
        },
        "id": "QDlYp03HBqmR",
        "outputId": "402c1b74-d418-45c9-f954-8a6fa804fb18"
      },
      "execution_count": null,
      "outputs": [
        {
          "output_type": "stream",
          "name": "stdout",
          "text": [
            "-7\n"
          ]
        }
      ]
    },
    {
      "cell_type": "code",
      "source": [
        "print(0)"
      ],
      "metadata": {
        "colab": {
          "base_uri": "https://localhost:8080/"
        },
        "id": "gttRNHjnBsYw",
        "outputId": "ca011bdd-2dd0-4d0b-ef13-5f4fe0317b36"
      },
      "execution_count": null,
      "outputs": [
        {
          "output_type": "stream",
          "name": "stdout",
          "text": [
            "0\n"
          ]
        }
      ]
    },
    {
      "cell_type": "markdown",
      "source": [
        "### Decimals"
      ],
      "metadata": {
        "id": "h2S9MrlbEIph"
      }
    },
    {
      "cell_type": "code",
      "source": [
        "print(3.67)"
      ],
      "metadata": {
        "colab": {
          "base_uri": "https://localhost:8080/"
        },
        "id": "iKA0IXWxBT0m",
        "outputId": "0cc18312-42f3-4d35-f3a2-39aee02cd460"
      },
      "execution_count": null,
      "outputs": [
        {
          "output_type": "stream",
          "name": "stdout",
          "text": [
            "3.67\n"
          ]
        }
      ]
    },
    {
      "cell_type": "code",
      "source": [
        "print(-132841.67875654)"
      ],
      "metadata": {
        "colab": {
          "base_uri": "https://localhost:8080/"
        },
        "id": "RWOqIEowBVQx",
        "outputId": "5220e8f0-5fc8-4bef-954d-f6ee708d6ad8"
      },
      "execution_count": null,
      "outputs": [
        {
          "output_type": "stream",
          "name": "stdout",
          "text": [
            "-132841.67875654\n"
          ]
        }
      ]
    },
    {
      "cell_type": "markdown",
      "source": [
        "Seems like it. I can display both **integers** as well as **decimals**."
      ],
      "metadata": {
        "id": "Dzl_fSh8sQYl"
      }
    },
    {
      "cell_type": "markdown",
      "source": [
        "Let me try something new now."
      ],
      "metadata": {
        "id": "cuDe8I5HsX-D"
      }
    },
    {
      "cell_type": "markdown",
      "source": [
        "## Stair Pattern"
      ],
      "metadata": {
        "id": "XI0LmakqlKA2"
      }
    },
    {
      "cell_type": "code",
      "source": [
        "print('*')\n",
        "print('**')\n",
        "print('***')\n",
        "print('****')\n",
        "print('*****')\n",
        "print('******')\n",
        "print('*******')\n",
        "print('********')\n",
        "print('*********')\n",
        "print('**********')"
      ],
      "metadata": {
        "colab": {
          "base_uri": "https://localhost:8080/"
        },
        "id": "BnXYtwSiksVb",
        "outputId": "b6949c12-bebd-444d-b954-3a346248f210"
      },
      "execution_count": null,
      "outputs": [
        {
          "output_type": "stream",
          "name": "stdout",
          "text": [
            "*\n",
            "**\n",
            "***\n",
            "****\n",
            "*****\n",
            "******\n",
            "*******\n",
            "********\n",
            "*********\n",
            "**********\n"
          ]
        }
      ]
    },
    {
      "cell_type": "markdown",
      "source": [
        "I have displayed a beautiful staircase, taking advantage of the fact that a `print` statement when used on a new line, outputs stuff in the new line.\n",
        "\n",
        "### Computers Are Dumb\n",
        "\n",
        "When I code, I have to implicitly tell the exact things the computer must do. Like humans, it can not assume to do the tasks.\n",
        "\n",
        "There are many examples for this. Let me take the one that I already explored above.\n",
        "\n",
        "I in my mind wanted to output the lines with a consecutive number of steps. If there was a human infront of me and if I had by mistake put 6 stars in line 5 instead of 5 stars, s/he would correct us. But computers would not care less and output what we had put exactly, i.e., 6 stars."
      ],
      "metadata": {
        "id": "jhOzE9S6lSVL"
      }
    },
    {
      "cell_type": "code",
      "source": [
        "print('*')\n",
        "print('**')\n",
        "print('***')\n",
        "print('****')\n",
        "print('******')"
      ],
      "metadata": {
        "colab": {
          "base_uri": "https://localhost:8080/"
        },
        "id": "UBZZSyTvkluA",
        "outputId": "a4ea3b57-13b4-4065-f57e-a1b4d0ccb65c"
      },
      "execution_count": null,
      "outputs": [
        {
          "output_type": "stream",
          "name": "stdout",
          "text": [
            "*\n",
            "**\n",
            "***\n",
            "****\n",
            "******\n"
          ]
        }
      ]
    },
    {
      "cell_type": "markdown",
      "source": [
        "You see, this dumb machine has displayed the exact thing I asked for."
      ],
      "metadata": {
        "id": "uhh8ZzHnA4aS"
      }
    },
    {
      "cell_type": "markdown",
      "source": [
        "## Reverse Stair Case\n",
        "\n",
        "If I wish to display the above staircase in the reverse order, it would be a challenge."
      ],
      "metadata": {
        "id": "lWpGcrleDDJe"
      }
    },
    {
      "cell_type": "code",
      "source": [
        "print('   *')\n",
        "print('  **')\n",
        "print(' ***')\n",
        "print('****')"
      ],
      "metadata": {
        "colab": {
          "base_uri": "https://localhost:8080/"
        },
        "id": "4WwaZJE1DOsZ",
        "outputId": "b60405bd-fc0c-4e80-b97f-96c1dd059265"
      },
      "execution_count": null,
      "outputs": [
        {
          "output_type": "stream",
          "name": "stdout",
          "text": [
            "   *\n",
            "  **\n",
            " ***\n",
            "****\n"
          ]
        }
      ]
    },
    {
      "cell_type": "markdown",
      "source": [
        "If I want to add more lines, then I would have to shift the spaces in all the previous lines."
      ],
      "metadata": {
        "id": "zypvHka_DVvD"
      }
    },
    {
      "cell_type": "markdown",
      "source": [
        "## On Automation\n",
        "\n",
        "Regardless, of the struggle I faced in displaying the staircase in the reverse order, it would be better to display the above 2 patterns in an automated fashion, instead of typing line-by-line.\n",
        "\n",
        "I shall explore this ahead! Let me take a step back and examine this `print()` thingy I have been toying around with."
      ],
      "metadata": {
        "id": "iCWX2kLEDdIB"
      }
    },
    {
      "cell_type": "markdown",
      "source": [
        "## A Closer Look At `print()`\n",
        "\n",
        "`print` is a built-in function in Python. A function is something that takes an input, processes it, and returns an output. Built-in function means, a function that is provided by Python. These can readily used by us.\n",
        "\n",
        "I am passing an input, something like, `hello, world` to my built-in function. It processes it and returns the output, `hello, world`. In a way this this function's task is to return the exact same thing I pass it. And that is what it was doing above.\n",
        "\n",
        "The object inside the parenthesis `hello, world` is called a *string*. In order to pass a string, I need to put it inside quotes, `'hello, world'`. In order to pass numbers, I need need not pass it in quotes. I can pass in the bare number `10` like `print(10)`. If I pass a number with the quotes, like `print('10')`, I didn't get an error, it is just that the computer will treat it as a string but not as a number."
      ],
      "metadata": {
        "id": "ay8xyfG1NBTL"
      }
    },
    {
      "cell_type": "code",
      "source": [
        "print(10)"
      ],
      "metadata": {
        "colab": {
          "base_uri": "https://localhost:8080/"
        },
        "id": "42LOtDlNuAcM",
        "outputId": "f4c4ab6f-c216-4638-db15-7cfa9c34324a"
      },
      "execution_count": null,
      "outputs": [
        {
          "output_type": "stream",
          "name": "stdout",
          "text": [
            "10\n"
          ]
        }
      ]
    },
    {
      "cell_type": "code",
      "source": [
        "print('10')"
      ],
      "metadata": {
        "colab": {
          "base_uri": "https://localhost:8080/"
        },
        "id": "IhhZDY5LuCCH",
        "outputId": "7af081b1-e2b0-43a2-8497-1bf81d3fbe8a"
      },
      "execution_count": null,
      "outputs": [
        {
          "output_type": "stream",
          "name": "stdout",
          "text": [
            "10\n"
          ]
        }
      ]
    },
    {
      "cell_type": "markdown",
      "source": [
        "Though both look the same, it is different from the POV of the computer. I will look into this in detail ahead."
      ],
      "metadata": {
        "id": "Ggj0i0Wkk0HL"
      }
    },
    {
      "cell_type": "markdown",
      "source": [
        "## Double Quotes `\"hello\"` VS Single Quotes `'hello'`\n",
        "\n",
        "I have used single quotes ealier when including a string.\n",
        "\n",
        "Let me try and see if I can use a double quotes."
      ],
      "metadata": {
        "id": "aUyWWuhLEQ9T"
      }
    },
    {
      "cell_type": "code",
      "source": [
        "print(\"hello, world\")"
      ],
      "metadata": {
        "colab": {
          "base_uri": "https://localhost:8080/"
        },
        "id": "rkWtztYhEn_n",
        "outputId": "d3ade430-6ba9-4165-8aec-bba07c7b5646"
      },
      "execution_count": null,
      "outputs": [
        {
          "output_type": "stream",
          "name": "stdout",
          "text": [
            "hello, world\n"
          ]
        }
      ]
    },
    {
      "cell_type": "markdown",
      "source": [
        "It works!"
      ],
      "metadata": {
        "id": "rStfiLqkErLK"
      }
    },
    {
      "cell_type": "code",
      "source": [
        "print('hello, world')"
      ],
      "metadata": {
        "colab": {
          "base_uri": "https://localhost:8080/"
        },
        "id": "wd9RccvfEpyx",
        "outputId": "13946818-9cc4-468d-d075-21e7dd093fe7"
      },
      "execution_count": null,
      "outputs": [
        {
          "output_type": "stream",
          "name": "stdout",
          "text": [
            "hello, world\n"
          ]
        }
      ]
    },
    {
      "cell_type": "markdown",
      "source": [
        "Both works.\n",
        "\n",
        "Seems that the `print()` command is flexible with the quotes.\n",
        "\n",
        "The only requirement is that I must use the *same* quotes for opening and closing. If I open a string with a single quote, I must close it with a single quote, but not a double quote, and vice-versa."
      ],
      "metadata": {
        "id": "PwjVBsIOEwO0"
      }
    },
    {
      "cell_type": "code",
      "source": [
        "print('Hi\")"
      ],
      "metadata": {
        "colab": {
          "base_uri": "https://localhost:8080/",
          "height": 131
        },
        "id": "0T3kcOVSEvZ0",
        "outputId": "a734d806-f12f-4ebb-b1a6-4d8e539ac245"
      },
      "execution_count": null,
      "outputs": [
        {
          "output_type": "error",
          "ename": "SyntaxError",
          "evalue": "ignored",
          "traceback": [
            "\u001b[0;36m  File \u001b[0;32m\"<ipython-input-17-b783ed2e95be>\"\u001b[0;36m, line \u001b[0;32m1\u001b[0m\n\u001b[0;31m    print('Hi\")\u001b[0m\n\u001b[0m          ^\u001b[0m\n\u001b[0;31mSyntaxError\u001b[0m\u001b[0;31m:\u001b[0m unterminated string literal (detected at line 1)\n"
          ]
        }
      ]
    },
    {
      "cell_type": "code",
      "source": [
        "print(\"Hi')"
      ],
      "metadata": {
        "colab": {
          "base_uri": "https://localhost:8080/",
          "height": 131
        },
        "id": "Os4-BepvFmU5",
        "outputId": "ddc755a2-0930-47a3-daee-ab842995c814"
      },
      "execution_count": null,
      "outputs": [
        {
          "output_type": "error",
          "ename": "SyntaxError",
          "evalue": "ignored",
          "traceback": [
            "\u001b[0;36m  File \u001b[0;32m\"<ipython-input-18-491a71e41918>\"\u001b[0;36m, line \u001b[0;32m1\u001b[0m\n\u001b[0;31m    print(\"Hi')\u001b[0m\n\u001b[0m          ^\u001b[0m\n\u001b[0;31mSyntaxError\u001b[0m\u001b[0;31m:\u001b[0m unterminated string literal (detected at line 1)\n"
          ]
        }
      ]
    },
    {
      "cell_type": "markdown",
      "source": [
        "### When To Use What?\n",
        "\n",
        "The interpreter is essentially equipping me with the ability to use both single quotes and double quotes. This can be handy in the following situations.\n",
        "\n",
        "**Example 1:** Printing a string that has an apostrophe in it like `India's capital is New Delhi.`"
      ],
      "metadata": {
        "id": "hlSNYo5JFB7X"
      }
    },
    {
      "cell_type": "markdown",
      "source": [
        "Let me try printing `India's capital is New Delhi.` as follows first:"
      ],
      "metadata": {
        "id": "QtkDpxrXFk3_"
      }
    },
    {
      "cell_type": "code",
      "source": [
        "print('India's capital is New Delhi!')"
      ],
      "metadata": {
        "colab": {
          "base_uri": "https://localhost:8080/",
          "height": 131
        },
        "id": "Hpa_o387FbSp",
        "outputId": "42132f8a-55c9-47c1-b833-67590ffcd709"
      },
      "execution_count": null,
      "outputs": [
        {
          "output_type": "error",
          "ename": "SyntaxError",
          "evalue": "ignored",
          "traceback": [
            "\u001b[0;36m  File \u001b[0;32m\"<ipython-input-27-0c90c992583c>\"\u001b[0;36m, line \u001b[0;32m1\u001b[0m\n\u001b[0;31m    print('India's capital is New Delhi!')\u001b[0m\n\u001b[0m                                        ^\u001b[0m\n\u001b[0;31mSyntaxError\u001b[0m\u001b[0;31m:\u001b[0m unterminated string literal (detected at line 1)\n"
          ]
        }
      ]
    },
    {
      "cell_type": "markdown",
      "source": [
        "Throws an error. If I do the following:"
      ],
      "metadata": {
        "id": "5D4mhWUaFice"
      }
    },
    {
      "cell_type": "code",
      "source": [
        "print(\"India's capital is New Delhi!\")"
      ],
      "metadata": {
        "colab": {
          "base_uri": "https://localhost:8080/"
        },
        "id": "Fhc75mlRF2P_",
        "outputId": "24a24c2b-42c5-4307-a746-ce9cb3df8313"
      },
      "execution_count": null,
      "outputs": [
        {
          "output_type": "stream",
          "name": "stdout",
          "text": [
            "India's capital is New Delhi!\n"
          ]
        }
      ]
    },
    {
      "cell_type": "markdown",
      "source": [
        "It works well.\n",
        "\n",
        "Looks like if my string has an apostrophe, I can't use single quotes. I must use double quotes.\n",
        "\n",
        "**Example 2:** Print the sentence `He said, \"If people close their eyes, they can not see!\".`\n",
        "\n",
        "Clearly from my previous experience, I can not enclose this in double quotes as it already has double quotes."
      ],
      "metadata": {
        "id": "owxDnGyaF3kl"
      }
    },
    {
      "cell_type": "code",
      "source": [
        "print(\"He said, \"If people close their eyes, they can not see!\".\")"
      ],
      "metadata": {
        "colab": {
          "base_uri": "https://localhost:8080/",
          "height": 131
        },
        "id": "zTe5EsS6GOB8",
        "outputId": "f3640627-8095-4e11-de6d-e92ccf60e390"
      },
      "execution_count": null,
      "outputs": [
        {
          "output_type": "error",
          "ename": "SyntaxError",
          "evalue": "ignored",
          "traceback": [
            "\u001b[0;36m  File \u001b[0;32m\"<ipython-input-31-0d101a718dd8>\"\u001b[0;36m, line \u001b[0;32m1\u001b[0m\n\u001b[0;31m    print(\"He said, \"If people close their eyes, they can not see!\".\")\u001b[0m\n\u001b[0m          ^\u001b[0m\n\u001b[0;31mSyntaxError\u001b[0m\u001b[0;31m:\u001b[0m invalid syntax. Perhaps you forgot a comma?\n"
          ]
        }
      ]
    },
    {
      "cell_type": "markdown",
      "source": [
        "See I told you! Why do you make me do this?!\n",
        "\n",
        "Let me try single quotes."
      ],
      "metadata": {
        "id": "-Bo1wu12JNsi"
      }
    },
    {
      "cell_type": "code",
      "source": [
        "print('He said, \"If people close their eyes, they can not see!\".')"
      ],
      "metadata": {
        "colab": {
          "base_uri": "https://localhost:8080/"
        },
        "id": "eaDHvSk2JR-H",
        "outputId": "f50a5c27-014a-423b-f4ea-01d52f4e90a9"
      },
      "execution_count": null,
      "outputs": [
        {
          "output_type": "stream",
          "name": "stdout",
          "text": [
            "He said, \"If people close their eyes, they can not see!\".\n"
          ]
        }
      ]
    },
    {
      "cell_type": "markdown",
      "source": [
        "Works like a charm!\n",
        "\n",
        "So I get the idea now. Here are the rules:\n",
        "\n",
        "1. If a string has `'`, it should be enclosed in `\"\"` (double quotes).\n",
        "2. If a string has `\"`, it should be enclosed in `''` (single quotes).\n",
        "\n",
        "What if I mix up stuff?! What if I want to print `Hello there, I have a lil' surprise for you. A \"sword\"!`"
      ],
      "metadata": {
        "id": "8OSrXB2xJYli"
      }
    },
    {
      "cell_type": "code",
      "source": [
        "print('Hello there, I have a lil' surprise for you. A \"sword\"!')"
      ],
      "metadata": {
        "colab": {
          "base_uri": "https://localhost:8080/",
          "height": 131
        },
        "id": "CFGQ0YVbJ3Ax",
        "outputId": "3f863af6-75ce-4883-b307-12b571cd52e2"
      },
      "execution_count": null,
      "outputs": [
        {
          "output_type": "error",
          "ename": "SyntaxError",
          "evalue": "ignored",
          "traceback": [
            "\u001b[0;36m  File \u001b[0;32m\"<ipython-input-33-2f1a58fd9b24>\"\u001b[0;36m, line \u001b[0;32m1\u001b[0m\n\u001b[0;31m    print('Hello there, I have a lil' surprise for you. A \"sword\"!')\u001b[0m\n\u001b[0m                                                                  ^\u001b[0m\n\u001b[0;31mSyntaxError\u001b[0m\u001b[0;31m:\u001b[0m unterminated string literal (detected at line 1)\n"
          ]
        }
      ]
    },
    {
      "cell_type": "code",
      "source": [
        "print(\"Hello there, I have a lil' surprise for you. A \"sword\"!\")"
      ],
      "metadata": {
        "colab": {
          "base_uri": "https://localhost:8080/",
          "height": 131
        },
        "id": "Bptrdu78KiFW",
        "outputId": "5d096601-a16f-4c43-914d-61d221fb8d30"
      },
      "execution_count": null,
      "outputs": [
        {
          "ename": "SyntaxError",
          "evalue": "ignored",
          "output_type": "error",
          "traceback": [
            "\u001b[0;36m  File \u001b[0;32m\"<ipython-input-34-f1ec18478903>\"\u001b[0;36m, line \u001b[0;32m1\u001b[0m\n\u001b[0;31m    print(\"Hello there, I have a lil' surprise for you. A \"sword\"!\")\u001b[0m\n\u001b[0m          ^\u001b[0m\n\u001b[0;31mSyntaxError\u001b[0m\u001b[0;31m:\u001b[0m invalid syntax. Perhaps you forgot a comma?\n"
          ]
        }
      ]
    },
    {
      "cell_type": "markdown",
      "source": [
        "Nothing works. Let me look into this later."
      ],
      "metadata": {
        "id": "_8NTW3X1Kmkf"
      }
    },
    {
      "cell_type": "markdown",
      "source": [
        "## Miscellaneous Stuff\n",
        "\n",
        "What if I pass nothing inside our `print()` command?!"
      ],
      "metadata": {
        "id": "xzKecuUjuYT0"
      }
    },
    {
      "cell_type": "code",
      "source": [
        "print()"
      ],
      "metadata": {
        "colab": {
          "base_uri": "https://localhost:8080/"
        },
        "id": "QDF9FM03unjL",
        "outputId": "04eb5c25-3559-47f4-ac7b-d00023c69fc5"
      },
      "execution_count": null,
      "outputs": [
        {
          "output_type": "stream",
          "name": "stdout",
          "text": [
            "\n"
          ]
        }
      ]
    },
    {
      "cell_type": "markdown",
      "source": [
        "Nothing happens, it is printing a blank line.\n",
        "\n",
        "What if I type something like the following:"
      ],
      "metadata": {
        "id": "tybhTn9uupvh"
      }
    },
    {
      "cell_type": "code",
      "source": [
        "print"
      ],
      "metadata": {
        "colab": {
          "base_uri": "https://localhost:8080/"
        },
        "id": "F4qbxJKIu15a",
        "outputId": "7c9916cc-ce03-426c-ff3f-2e90dde1621e"
      },
      "execution_count": null,
      "outputs": [
        {
          "output_type": "execute_result",
          "data": {
            "text/plain": [
              "<function print>"
            ]
          },
          "metadata": {},
          "execution_count": 10
        }
      ]
    },
    {
      "cell_type": "markdown",
      "source": [
        "It is not showing an error, but is telling me that `print` is a function.\n",
        "\n",
        "Let me try the following now:"
      ],
      "metadata": {
        "id": "t2z2tK8Du4Kh"
      }
    },
    {
      "cell_type": "code",
      "source": [
        "print 'hello, world'"
      ],
      "metadata": {
        "colab": {
          "base_uri": "https://localhost:8080/",
          "height": 131
        },
        "id": "9FilqdA9vRvC",
        "outputId": "259d4054-2ebb-4cce-a74f-6667eaa0c927"
      },
      "execution_count": null,
      "outputs": [
        {
          "output_type": "error",
          "ename": "SyntaxError",
          "evalue": "ignored",
          "traceback": [
            "\u001b[0;36m  File \u001b[0;32m\"<ipython-input-11-d92aa1d4278c>\"\u001b[0;36m, line \u001b[0;32m1\u001b[0m\n\u001b[0;31m    print 'hello, world'\u001b[0m\n\u001b[0m    ^\u001b[0m\n\u001b[0;31mSyntaxError\u001b[0m\u001b[0;31m:\u001b[0m Missing parentheses in call to 'print'. Did you mean print(...)?\n"
          ]
        }
      ]
    },
    {
      "cell_type": "markdown",
      "source": [
        "I am getting an error. called `SyntaxError`.\n",
        "\n",
        "A *syntax* is like grammar in human languages. In the above code, since I have missed the parentheses, it is telling me about it.\n",
        "\n",
        "By *it*, I mean the interpreter here. An interpreter is something that converts my code into machine code. Will explore this later ahead."
      ],
      "metadata": {
        "id": "nKwjWOyovT_x"
      }
    },
    {
      "cell_type": "markdown",
      "source": [
        "## Using Two Or More Strings Within A Single Print Command"
      ],
      "metadata": {
        "id": "CLPmlud4AItE"
      }
    },
    {
      "cell_type": "markdown",
      "source": [
        "I can insert multiple strings inside a single print command by separating each of them with a `,`(comma). Look at the following:"
      ],
      "metadata": {
        "id": "NGrfOnm3ASXA"
      }
    },
    {
      "cell_type": "code",
      "source": [
        "print(\"hello\", \"world\")"
      ],
      "metadata": {
        "id": "JJvGfAatKBAO",
        "outputId": "57e5fc0b-a47e-42f8-9319-b0431c37b815",
        "colab": {
          "base_uri": "https://localhost:8080/"
        }
      },
      "execution_count": null,
      "outputs": [
        {
          "output_type": "stream",
          "name": "stdout",
          "text": [
            "hello world\n"
          ]
        }
      ]
    },
    {
      "cell_type": "code",
      "source": [
        "print(\"Hey\", \"man!\", \"What's\", \"Up?\")"
      ],
      "metadata": {
        "id": "TmwZ_dUKKBm9",
        "colab": {
          "base_uri": "https://localhost:8080/"
        },
        "outputId": "933a4d6b-f6cb-4ac6-aa19-b8d2f3a99117"
      },
      "execution_count": null,
      "outputs": [
        {
          "output_type": "stream",
          "name": "stdout",
          "text": [
            "Hey man! What's Up?\n"
          ]
        }
      ]
    },
    {
      "cell_type": "markdown",
      "source": [
        "## Combining Strings, Integers, & Decimals\n",
        "\n",
        "Let me try passing all three inside the `print()` command."
      ],
      "metadata": {
        "id": "0k2Khc7JB0Ni"
      }
    },
    {
      "cell_type": "code",
      "source": [
        "print(\"Python\", 77, -9.14)"
      ],
      "metadata": {
        "colab": {
          "base_uri": "https://localhost:8080/"
        },
        "id": "4P0NoI1mBxlv",
        "outputId": "efdf3692-f13f-46d9-d09b-f63ee0eaa3a3"
      },
      "execution_count": null,
      "outputs": [
        {
          "output_type": "stream",
          "name": "stdout",
          "text": [
            "Python 77 -9.14\n"
          ]
        }
      ]
    },
    {
      "cell_type": "markdown",
      "source": [
        "Works well! It is displaying all three.\n",
        "\n",
        "## Common Mistakes\n",
        "\n",
        "Let me look at a few common mistakes that I might do with a simple command as `print()`.\n",
        "\n",
        "If incase, my `print()` commands throws an error, it might be due to the following two mistakes. However, there are other mistakes as well apart from these two."
      ],
      "metadata": {
        "id": "5YlPNPhsCECn"
      }
    },
    {
      "cell_type": "markdown",
      "source": [
        "### Mistake 1: Mispelling `print`\n",
        "\n",
        "The `print` command doesn't work with other spelling formations, such as the following:"
      ],
      "metadata": {
        "id": "myP9vTwTCpqT"
      }
    },
    {
      "cell_type": "code",
      "source": [
        "PRINT(\"Hi\")"
      ],
      "metadata": {
        "colab": {
          "base_uri": "https://localhost:8080/",
          "height": 166
        },
        "id": "9vHiqohdCC0O",
        "outputId": "316aac9f-0dc4-490a-a195-f622b89f597e"
      },
      "execution_count": null,
      "outputs": [
        {
          "output_type": "error",
          "ename": "NameError",
          "evalue": "ignored",
          "traceback": [
            "\u001b[0;31m---------------------------------------------------------------------------\u001b[0m",
            "\u001b[0;31mNameError\u001b[0m                                 Traceback (most recent call last)",
            "\u001b[0;32m<ipython-input-12-54bbc555788b>\u001b[0m in \u001b[0;36m<cell line: 1>\u001b[0;34m()\u001b[0m\n\u001b[0;32m----> 1\u001b[0;31m \u001b[0mPRINT\u001b[0m\u001b[0;34m(\u001b[0m\u001b[0;34m\"Hi\"\u001b[0m\u001b[0;34m)\u001b[0m\u001b[0;34m\u001b[0m\u001b[0;34m\u001b[0m\u001b[0m\n\u001b[0m",
            "\u001b[0;31mNameError\u001b[0m: name 'PRINT' is not defined"
          ]
        }
      ]
    },
    {
      "cell_type": "code",
      "source": [
        "Print(\"Hi\")"
      ],
      "metadata": {
        "colab": {
          "base_uri": "https://localhost:8080/",
          "height": 166
        },
        "id": "FVuEY2O5DCOC",
        "outputId": "c79c9f6e-3b56-42d1-edd6-9c7b623ded83"
      },
      "execution_count": null,
      "outputs": [
        {
          "output_type": "error",
          "ename": "NameError",
          "evalue": "ignored",
          "traceback": [
            "\u001b[0;31m---------------------------------------------------------------------------\u001b[0m",
            "\u001b[0;31mNameError\u001b[0m                                 Traceback (most recent call last)",
            "\u001b[0;32m<ipython-input-13-c6b8c8fd79b8>\u001b[0m in \u001b[0;36m<cell line: 1>\u001b[0;34m()\u001b[0m\n\u001b[0;32m----> 1\u001b[0;31m \u001b[0mPrint\u001b[0m\u001b[0;34m(\u001b[0m\u001b[0;34m\"Hi\"\u001b[0m\u001b[0;34m)\u001b[0m\u001b[0;34m\u001b[0m\u001b[0;34m\u001b[0m\u001b[0m\n\u001b[0m",
            "\u001b[0;31mNameError\u001b[0m: name 'Print' is not defined"
          ]
        }
      ]
    },
    {
      "cell_type": "markdown",
      "source": [
        "All the other variations throw an error.\n",
        "\n",
        "### Mistake 2: Using Other Bracket Styles in `print()`\n",
        "\n",
        "The brackets within which I pass my string or number must be a parenthesis `()`. Other brackets are not allowed such as the following.\n",
        "\n",
        "#### Square Brackets `[]`"
      ],
      "metadata": {
        "id": "YujHm8qSDIJ3"
      }
    },
    {
      "cell_type": "code",
      "source": [
        "print[\"Hello\"]"
      ],
      "metadata": {
        "colab": {
          "base_uri": "https://localhost:8080/",
          "height": 166
        },
        "id": "tW5vRb5YDG-x",
        "outputId": "ddddf108-9da5-4e3f-b37f-abb459e89c21"
      },
      "execution_count": null,
      "outputs": [
        {
          "output_type": "error",
          "ename": "TypeError",
          "evalue": "ignored",
          "traceback": [
            "\u001b[0;31m---------------------------------------------------------------------------\u001b[0m",
            "\u001b[0;31mTypeError\u001b[0m                                 Traceback (most recent call last)",
            "\u001b[0;32m<ipython-input-14-ce58fd78cfa1>\u001b[0m in \u001b[0;36m<cell line: 1>\u001b[0;34m()\u001b[0m\n\u001b[0;32m----> 1\u001b[0;31m \u001b[0mprint\u001b[0m\u001b[0;34m[\u001b[0m\u001b[0;34m\"Hello\"\u001b[0m\u001b[0;34m]\u001b[0m\u001b[0;34m\u001b[0m\u001b[0;34m\u001b[0m\u001b[0m\n\u001b[0m",
            "\u001b[0;31mTypeError\u001b[0m: 'builtin_function_or_method' object is not subscriptable"
          ]
        }
      ]
    },
    {
      "cell_type": "markdown",
      "source": [
        "#### Flower/Curly Brackets `{}`"
      ],
      "metadata": {
        "id": "V3nwMkROEEue"
      }
    },
    {
      "cell_type": "code",
      "source": [
        "print{\"Hi\"}"
      ],
      "metadata": {
        "id": "GL5hIhjoDz6E",
        "colab": {
          "base_uri": "https://localhost:8080/",
          "height": 131
        },
        "outputId": "1195baeb-70f7-4aad-9a1c-b2565b9f46a6"
      },
      "execution_count": 44,
      "outputs": [
        {
          "output_type": "error",
          "ename": "SyntaxError",
          "evalue": "ignored",
          "traceback": [
            "\u001b[0;36m  File \u001b[0;32m\"<ipython-input-44-a076b14e8e90>\"\u001b[0;36m, line \u001b[0;32m1\u001b[0m\n\u001b[0;31m    print{\"Hi\"}\u001b[0m\n\u001b[0m    ^\u001b[0m\n\u001b[0;31mSyntaxError\u001b[0m\u001b[0;31m:\u001b[0m Missing parentheses in call to 'print'. Did you mean print(...)?\n"
          ]
        }
      ]
    },
    {
      "cell_type": "markdown",
      "source": [
        "#### Angular Brackets `<>`"
      ],
      "metadata": {
        "id": "Ilu2NLRFEJxG"
      }
    },
    {
      "cell_type": "code",
      "source": [
        "print<\"Hi\">"
      ],
      "metadata": {
        "id": "PCoSPWK8D2NA",
        "colab": {
          "base_uri": "https://localhost:8080/",
          "height": 131
        },
        "outputId": "a5df41a4-e7e0-477b-dfa0-5fcb5cb0137b"
      },
      "execution_count": 45,
      "outputs": [
        {
          "output_type": "error",
          "ename": "SyntaxError",
          "evalue": "ignored",
          "traceback": [
            "\u001b[0;36m  File \u001b[0;32m\"<ipython-input-45-5c82562d773f>\"\u001b[0;36m, line \u001b[0;32m1\u001b[0m\n\u001b[0;31m    print<\"Hi\">\u001b[0m\n\u001b[0m               ^\u001b[0m\n\u001b[0;31mSyntaxError\u001b[0m\u001b[0;31m:\u001b[0m invalid syntax\n"
          ]
        }
      ]
    },
    {
      "cell_type": "markdown",
      "source": [
        "## Emojis\n",
        "\n",
        "Let me wrap my `print()` adventures with some emojis.\n",
        "\n",
        "Here is how I can display emojis:"
      ],
      "metadata": {
        "id": "j7Y16GeGyfIJ"
      }
    },
    {
      "cell_type": "code",
      "source": [
        "print('\\N{grinning face}')"
      ],
      "metadata": {
        "colab": {
          "base_uri": "https://localhost:8080/"
        },
        "id": "gJHVQCoWyeG1",
        "outputId": "e445ca57-712f-4c00-a30f-48e49b3f2fa4"
      },
      "execution_count": null,
      "outputs": [
        {
          "output_type": "stream",
          "name": "stdout",
          "text": [
            "😀\n"
          ]
        }
      ]
    },
    {
      "cell_type": "code",
      "source": [
        "print('\\N{smiling face with halo}')"
      ],
      "metadata": {
        "colab": {
          "base_uri": "https://localhost:8080/"
        },
        "id": "MD4DryhiytbO",
        "outputId": "2e5def7a-8035-4426-8838-80dc64a592bf"
      },
      "execution_count": null,
      "outputs": [
        {
          "output_type": "stream",
          "name": "stdout",
          "text": [
            "😇\n"
          ]
        }
      ]
    },
    {
      "cell_type": "code",
      "source": [
        "print(\"\\N{see-no-evil monkey}\")"
      ],
      "metadata": {
        "colab": {
          "base_uri": "https://localhost:8080/"
        },
        "id": "PPxNE9yoLKn-",
        "outputId": "58e0fdcd-ca2f-4c72-f90f-b136a0397d4f"
      },
      "execution_count": null,
      "outputs": [
        {
          "output_type": "stream",
          "name": "stdout",
          "text": [
            "🙈\n"
          ]
        }
      ]
    },
    {
      "cell_type": "code",
      "source": [
        "print(\"\\N{tent}\")"
      ],
      "metadata": {
        "colab": {
          "base_uri": "https://localhost:8080/"
        },
        "id": "Z9SgGVdxLpO6",
        "outputId": "6dbfd41e-d7d2-43eb-a446-9d2c1bed8766"
      },
      "execution_count": null,
      "outputs": [
        {
          "output_type": "stream",
          "name": "stdout",
          "text": [
            "⛺\n"
          ]
        }
      ]
    },
    {
      "cell_type": "code",
      "source": [
        "print(\"I need a\", \"\\N{taxi}\")"
      ],
      "metadata": {
        "colab": {
          "base_uri": "https://localhost:8080/"
        },
        "id": "Ki-NLca3Lclm",
        "outputId": "e745cbaf-4c46-4392-f858-7ccfbb6e1b01"
      },
      "execution_count": null,
      "outputs": [
        {
          "output_type": "stream",
          "name": "stdout",
          "text": [
            "I need a 🚕\n"
          ]
        }
      ]
    },
    {
      "cell_type": "code",
      "source": [
        "print('\\N{snowman}')"
      ],
      "metadata": {
        "id": "7cw8CPWJNAI4",
        "colab": {
          "base_uri": "https://localhost:8080/"
        },
        "outputId": "45dd30ff-d61c-4324-e45e-491fb20a4e87"
      },
      "execution_count": 43,
      "outputs": [
        {
          "output_type": "stream",
          "name": "stdout",
          "text": [
            "☃\n"
          ]
        }
      ]
    },
    {
      "cell_type": "markdown",
      "source": [
        "[Here](https://unicode.org/emoji/charts/full-emoji-list.html) is a list of all emojis. I inserted the descriptions mentioned in *CLDR Short Name* column. Some stuff didn't seem to work."
      ],
      "metadata": {
        "id": "M5le9QenzMvr"
      }
    },
    {
      "cell_type": "code",
      "source": [
        "print(\"That's a wrap!\", \"\\N{eyes}\")"
      ],
      "metadata": {
        "colab": {
          "base_uri": "https://localhost:8080/"
        },
        "id": "SpFuZyrbTLKa",
        "outputId": "24f07fb0-12fd-4382-ccd4-b589b0893615"
      },
      "execution_count": 46,
      "outputs": [
        {
          "output_type": "stream",
          "name": "stdout",
          "text": [
            "That's a wrap! 👀\n"
          ]
        }
      ]
    }
  ]
}