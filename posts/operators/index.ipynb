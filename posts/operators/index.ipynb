{
  "nbformat": 4,
  "nbformat_minor": 0,
  "metadata": {
    "colab": {
      "provenance": []
    },
    "kernelspec": {
      "name": "python3",
      "display_name": "Python 3"
    },
    "language_info": {
      "name": "python"
    }
  },
  "cells": [
    {
      "cell_type": "markdown",
      "source": [
        "---\n",
        "title: \"Operators\"\n",
        "subtitle: Arithmetic, Relational, & Logical\n",
        "description: Detailed look into all these things.\n",
        "author: \"Abdullah Zeeshan\"\n",
        "date: \"2023-06-23\"\n",
        "categories: [coding]\n",
        "reading-time: True\n",
        "toc: true\n",
        "fig-align: center\n",
        "fig-cap-location: bottom\n",
        "---"
      ],
      "metadata": {
        "id": "ikKye8CKCIp3"
      }
    },
    {
      "cell_type": "markdown",
      "source": [
        "![](operators.jpg)\n",
        "\n",
        "Let me begin by goofing around and then study this in a systematic way."
      ],
      "metadata": {
        "id": "_2gGviZdcwvP"
      }
    },
    {
      "cell_type": "code",
      "source": [
        "a = 10\n",
        "b = 5\n",
        "n = a + b\n",
        "print(n)"
      ],
      "metadata": {
        "colab": {
          "base_uri": "https://localhost:8080/"
        },
        "id": "W_lOG4rGc4e8",
        "outputId": "beb62d1b-690c-4f13-c2e8-0991908e9b85"
      },
      "execution_count": 1,
      "outputs": [
        {
          "output_type": "stream",
          "name": "stdout",
          "text": [
            "15\n"
          ]
        }
      ]
    },
    {
      "cell_type": "markdown",
      "source": [
        "The `+` symbol is adding the values stored in `a` and `b`. This is called as an *operator*. We have other operators as well."
      ],
      "metadata": {
        "id": "oF0kSFvrdSPs"
      }
    },
    {
      "cell_type": "code",
      "source": [
        "a = 10\n",
        "b = 5\n",
        "n = a - b\n",
        "print(n)"
      ],
      "metadata": {
        "colab": {
          "base_uri": "https://localhost:8080/"
        },
        "id": "9xJjtAKpddSM",
        "outputId": "c7d7a528-dfbc-4ec7-feb6-d6362da0cc97"
      },
      "execution_count": 3,
      "outputs": [
        {
          "output_type": "stream",
          "name": "stdout",
          "text": [
            "5\n"
          ]
        }
      ]
    },
    {
      "cell_type": "code",
      "source": [
        "a = 10\n",
        "b = 5\n",
        "n = a * b\n",
        "print(n)"
      ],
      "metadata": {
        "colab": {
          "base_uri": "https://localhost:8080/"
        },
        "id": "BcS-zKgldiyn",
        "outputId": "011d3b0a-1603-4d10-fc5c-4266bc967b30"
      },
      "execution_count": 4,
      "outputs": [
        {
          "output_type": "stream",
          "name": "stdout",
          "text": [
            "50\n"
          ]
        }
      ]
    },
    {
      "cell_type": "markdown",
      "source": [
        "For multiplication we use the `*` symbol in programming. Here is division."
      ],
      "metadata": {
        "id": "fXZu1gfDdnXK"
      }
    },
    {
      "cell_type": "code",
      "source": [
        "a = 10\n",
        "b = 5\n",
        "n = a / b\n",
        "print(n)"
      ],
      "metadata": {
        "colab": {
          "base_uri": "https://localhost:8080/"
        },
        "id": "cDirOj4Ddunw",
        "outputId": "b9464f67-f559-4d67-ff5c-7cf3c43e882c"
      },
      "execution_count": 5,
      "outputs": [
        {
          "output_type": "stream",
          "name": "stdout",
          "text": [
            "2.0\n"
          ]
        }
      ]
    },
    {
      "cell_type": "markdown",
      "source": [
        "Note that, when two integers are divided, Python gives the result by default as a `float` type.\n",
        "\n",
        "Let me try other numbers."
      ],
      "metadata": {
        "id": "LYTfQrOKdyWq"
      }
    },
    {
      "cell_type": "code",
      "source": [
        "print(2.3 * 4.99)\n",
        "print(96 / 2.5)\n",
        "print(3.56 + 9)\n",
        "print(-67 + 34)"
      ],
      "metadata": {
        "colab": {
          "base_uri": "https://localhost:8080/"
        },
        "id": "0o-GDAw5d76t",
        "outputId": "b8d005f5-1989-46c1-e0e6-d33120449f2a"
      },
      "execution_count": 6,
      "outputs": [
        {
          "output_type": "stream",
          "name": "stdout",
          "text": [
            "11.477\n",
            "38.4\n",
            "12.56\n",
            "-33\n"
          ]
        }
      ]
    },
    {
      "cell_type": "markdown",
      "source": [
        "Let me take a closer look into this.\n",
        "\n",
        "In Python there are many operators. All of them classified into 3 categories as follows:\n",
        "\n",
        "1. Arithmetic Operators\n",
        "2. Boolean Operators\n",
        "3. Logical Operators\n",
        "\n",
        "## 1 Arithmetic Operators\n",
        "\n",
        "Following is the list of various arithmetic operator symbols with their corresponding operation.\n",
        "\n",
        "|Symbol|Operation|\n",
        "|---|---|\n",
        "|+|Addition|\n",
        "|-|Subtraction|\n",
        "|*|Multiplication|\n",
        "|/|Division|\n",
        "|//|Floor Division|\n",
        "|%|Modulo|\n",
        "|**|Exponentiation|\n",
        "\n",
        "Let me try each of these."
      ],
      "metadata": {
        "id": "OWAS-IVfXfeG"
      }
    },
    {
      "cell_type": "code",
      "source": [
        "print(10 + 5)"
      ],
      "metadata": {
        "colab": {
          "base_uri": "https://localhost:8080/"
        },
        "id": "YkBLTjNefZAo",
        "outputId": "cc088f0d-2ded-4503-df97-1b740f51b89f"
      },
      "execution_count": 7,
      "outputs": [
        {
          "output_type": "stream",
          "name": "stdout",
          "text": [
            "15\n"
          ]
        }
      ]
    },
    {
      "cell_type": "code",
      "source": [
        "print(10 - 5)"
      ],
      "metadata": {
        "colab": {
          "base_uri": "https://localhost:8080/"
        },
        "id": "JL7AUIUefdBz",
        "outputId": "75797cae-a394-499d-9eaa-8cb7cc8a45fe"
      },
      "execution_count": 14,
      "outputs": [
        {
          "output_type": "stream",
          "name": "stdout",
          "text": [
            "5\n"
          ]
        }
      ]
    },
    {
      "cell_type": "code",
      "source": [
        "print(10 * 5)"
      ],
      "metadata": {
        "colab": {
          "base_uri": "https://localhost:8080/"
        },
        "id": "35BEe9hvfemI",
        "outputId": "0b05e4c0-e599-473b-a2c6-3e4109f07042"
      },
      "execution_count": 9,
      "outputs": [
        {
          "output_type": "stream",
          "name": "stdout",
          "text": [
            "50\n"
          ]
        }
      ]
    },
    {
      "cell_type": "code",
      "source": [
        "print(10 / 5)"
      ],
      "metadata": {
        "colab": {
          "base_uri": "https://localhost:8080/"
        },
        "id": "6woF478cffjI",
        "outputId": "084af7dc-8c64-4174-e8ee-ac49b83d0f83"
      },
      "execution_count": 10,
      "outputs": [
        {
          "output_type": "stream",
          "name": "stdout",
          "text": [
            "2.0\n"
          ]
        }
      ]
    },
    {
      "cell_type": "code",
      "source": [
        "print(10 // 5)"
      ],
      "metadata": {
        "colab": {
          "base_uri": "https://localhost:8080/"
        },
        "id": "CN64PMzFfhA1",
        "outputId": "48fdf990-7e1d-4c85-a3b1-5ff603e9e5b4"
      },
      "execution_count": 11,
      "outputs": [
        {
          "output_type": "stream",
          "name": "stdout",
          "text": [
            "2\n"
          ]
        }
      ]
    },
    {
      "cell_type": "markdown",
      "source": [
        "`//` is called the floor division operator.\n",
        "\n",
        "`x // y` gives the quotient when `x` is divided by `y`.\n",
        "\n",
        "**Example:** `8 // 3` is `2`."
      ],
      "metadata": {
        "id": "q3TGdwU2f2u_"
      }
    },
    {
      "cell_type": "code",
      "source": [
        "print(10 % 5)"
      ],
      "metadata": {
        "colab": {
          "base_uri": "https://localhost:8080/"
        },
        "id": "28BfU7vpfh8M",
        "outputId": "1dec424b-c1c7-43e7-f035-3c5bf6ca5ed8"
      },
      "execution_count": 12,
      "outputs": [
        {
          "output_type": "stream",
          "name": "stdout",
          "text": [
            "0\n"
          ]
        }
      ]
    },
    {
      "cell_type": "markdown",
      "source": [
        "`%` is called the modulus operator.\n",
        "\n",
        "`x % y` gives the remainder when `x` is divided by `y`.\n",
        "\n",
        "**Example:** `10 % 3` is `1`."
      ],
      "metadata": {
        "id": "Xr8BEM5lgDBa"
      }
    },
    {
      "cell_type": "code",
      "source": [
        "print(10 ** 5)"
      ],
      "metadata": {
        "colab": {
          "base_uri": "https://localhost:8080/"
        },
        "id": "F7vNBxdQfkFe",
        "outputId": "938a715e-0352-4c87-a498-47fdb8783bc2"
      },
      "execution_count": 13,
      "outputs": [
        {
          "output_type": "stream",
          "name": "stdout",
          "text": [
            "100000\n"
          ]
        }
      ]
    },
    {
      "cell_type": "markdown",
      "source": [
        "`**` is called the exponentiation operator.\n",
        "\n",
        "`x ** y` returns $x^y$.\n",
        "\n",
        "**Example:** `3 ** 2` is `9`."
      ],
      "metadata": {
        "id": "qT1mc4ZGgYPC"
      }
    },
    {
      "cell_type": "markdown",
      "source": [
        ":::{.callout-note}\n",
        "`/` and `//` are two different operators. `/` gives the complete result of division, while `//`  returns the quotient. For example, `5 / 2` results in `2.5` while `5 // 2` gives `2`.\n",
        ":::\n",
        "\n",
        "### Binary & Unary Operators\n",
        "\n",
        "The above operators are called as *binary* operators because they are operated on two values. The two values on which they are operated are called as *operands*.\n",
        "\n",
        "Unary operators on the other hand are operated on only one operand. There are two of these:\n",
        "\n",
        "1. Unary Plus `+`\n",
        "2. Unary Minus `-`\n",
        "\n",
        "Look at the following:"
      ],
      "metadata": {
        "id": "pEP6c_IMguAB"
      }
    },
    {
      "cell_type": "code",
      "source": [
        "print(- 2)\n",
        "print(+ 2)"
      ],
      "metadata": {
        "colab": {
          "base_uri": "https://localhost:8080/"
        },
        "id": "xUIYUSuJfljK",
        "outputId": "3c51be7c-7952-4fe3-8c3e-476c655913d7"
      },
      "execution_count": 15,
      "outputs": [
        {
          "output_type": "stream",
          "name": "stdout",
          "text": [
            "-2\n",
            "2\n"
          ]
        }
      ]
    },
    {
      "cell_type": "markdown",
      "source": [
        "In simple words they are like *signs* before a number."
      ],
      "metadata": {
        "id": "gkbEF2jXizK4"
      }
    },
    {
      "cell_type": "code",
      "source": [
        "print(- 9.76)\n",
        "print(+ 123.56)"
      ],
      "metadata": {
        "colab": {
          "base_uri": "https://localhost:8080/"
        },
        "id": "DLTkU_m3iwZK",
        "outputId": "03de1f88-6cb8-440e-f6ee-3c36aa659963"
      },
      "execution_count": 16,
      "outputs": [
        {
          "output_type": "stream",
          "name": "stdout",
          "text": [
            "-9.76\n",
            "123.56\n"
          ]
        }
      ]
    },
    {
      "cell_type": "markdown",
      "source": [
        "The symbols `+` and `-` are thus used for both binary and unary operands. Based on the context, I have to make sense of what is going on."
      ],
      "metadata": {
        "id": "fhNAAdxGjAKl"
      }
    },
    {
      "cell_type": "code",
      "source": [
        "print(10 - 2) # Binary minus\n",
        "print(- 2) # Unary minus"
      ],
      "metadata": {
        "colab": {
          "base_uri": "https://localhost:8080/"
        },
        "id": "4-hDfg_ui6tW",
        "outputId": "86f9b541-fc73-4d97-9d2a-63f8344e0c1e"
      },
      "execution_count": 18,
      "outputs": [
        {
          "output_type": "stream",
          "name": "stdout",
          "text": [
            "8\n",
            "-2\n"
          ]
        }
      ]
    },
    {
      "cell_type": "markdown",
      "source": [
        "Both of them can be used as well."
      ],
      "metadata": {
        "id": "pb7v7MUwjkOs"
      }
    },
    {
      "cell_type": "code",
      "source": [
        "print(10 - - 2) # Both, first is binary minus and second is unary minus"
      ],
      "metadata": {
        "colab": {
          "base_uri": "https://localhost:8080/"
        },
        "id": "xEWm6ERajT2w",
        "outputId": "aa439b01-7c3c-49d1-c028-4749c8552e08"
      },
      "execution_count": 19,
      "outputs": [
        {
          "output_type": "stream",
          "name": "stdout",
          "text": [
            "12\n"
          ]
        }
      ]
    },
    {
      "cell_type": "markdown",
      "source": [
        "This is equivalent to $10 - (-2)$."
      ],
      "metadata": {
        "id": "lHUGiFrpjoXj"
      }
    },
    {
      "cell_type": "markdown",
      "source": [
        ":::{.callout-note}\n",
        "The operands can be both **literals** and **variables**.\n",
        ":::\n",
        "\n",
        "## 2 Relational Operators\n",
        "\n",
        "Apart from the arithmetic operators there are these operators that evaluate the relationship between values.\n",
        "\n",
        "|Symbol|Operation|\n",
        "|---|---|\n",
        "|>|greater than|\n",
        "|<|less than|\n",
        "|>=|greater than or equal to|\n",
        "|<=|less than or equal to|\n",
        "|==|double equal to|\n",
        "|!=|not equal to|\n",
        "\n",
        "These operators are binary and they output only a boolean value `True` or `False` based on the truth or falsehood of a relationship.\n",
        "\n",
        "Consider the following:"
      ],
      "metadata": {
        "id": "6yh1WPKoj2jQ"
      }
    },
    {
      "cell_type": "code",
      "source": [
        "print(10 > 5)"
      ],
      "metadata": {
        "colab": {
          "base_uri": "https://localhost:8080/"
        },
        "id": "u8n_SFLZjjXi",
        "outputId": "9b6948d8-ce08-40dd-e67a-3b08907aae2a"
      },
      "execution_count": 20,
      "outputs": [
        {
          "output_type": "stream",
          "name": "stdout",
          "text": [
            "True\n"
          ]
        }
      ]
    },
    {
      "cell_type": "code",
      "source": [
        "print(10 < 5)"
      ],
      "metadata": {
        "colab": {
          "base_uri": "https://localhost:8080/"
        },
        "id": "H4vcibVXy-xr",
        "outputId": "a35fa36b-8a1c-4c51-be48-d95dc3139a21"
      },
      "execution_count": 21,
      "outputs": [
        {
          "output_type": "stream",
          "name": "stdout",
          "text": [
            "False\n"
          ]
        }
      ]
    },
    {
      "cell_type": "code",
      "source": [
        "print(10 >= 5)"
      ],
      "metadata": {
        "colab": {
          "base_uri": "https://localhost:8080/"
        },
        "id": "XrWHCETCzCrJ",
        "outputId": "b487be50-23fc-4e95-dd7d-5bfd2ef1b8ca"
      },
      "execution_count": 22,
      "outputs": [
        {
          "output_type": "stream",
          "name": "stdout",
          "text": [
            "True\n"
          ]
        }
      ]
    },
    {
      "cell_type": "code",
      "source": [
        "print(10 <= 5)"
      ],
      "metadata": {
        "colab": {
          "base_uri": "https://localhost:8080/"
        },
        "id": "_A-tOkMTzEqb",
        "outputId": "0576d802-5b56-40f1-f3a5-81f03efcb975"
      },
      "execution_count": 23,
      "outputs": [
        {
          "output_type": "stream",
          "name": "stdout",
          "text": [
            "False\n"
          ]
        }
      ]
    },
    {
      "cell_type": "code",
      "source": [
        "print(10 == 5)"
      ],
      "metadata": {
        "colab": {
          "base_uri": "https://localhost:8080/"
        },
        "id": "zhLRJRJ0zF8i",
        "outputId": "d66efa81-e154-4f0f-cc4c-e78a21be374e"
      },
      "execution_count": 24,
      "outputs": [
        {
          "output_type": "stream",
          "name": "stdout",
          "text": [
            "False\n"
          ]
        }
      ]
    },
    {
      "cell_type": "code",
      "source": [
        "print(10 != 5)"
      ],
      "metadata": {
        "colab": {
          "base_uri": "https://localhost:8080/"
        },
        "id": "9-bUJXyezHbs",
        "outputId": "8189eaa9-f353-4575-9924-5ae96d4eea80"
      },
      "execution_count": 25,
      "outputs": [
        {
          "output_type": "stream",
          "name": "stdout",
          "text": [
            "True\n"
          ]
        }
      ]
    },
    {
      "cell_type": "markdown",
      "source": [
        "Since values can be stored in variables, I can do the following as well:"
      ],
      "metadata": {
        "id": "meU8qOg40cFr"
      }
    },
    {
      "cell_type": "code",
      "source": [
        "x = 10\n",
        "y = 20\n",
        "z = y > x\n",
        "print(z)"
      ],
      "metadata": {
        "colab": {
          "base_uri": "https://localhost:8080/"
        },
        "id": "ZbNHjoIN0dXh",
        "outputId": "1e60a3ae-3090-4063-c509-9456ac597467"
      },
      "execution_count": 26,
      "outputs": [
        {
          "output_type": "stream",
          "name": "stdout",
          "text": [
            "True\n"
          ]
        }
      ]
    },
    {
      "cell_type": "markdown",
      "source": [
        "\n",
        "\n",
        "### Difference Between `==` & `=`\n",
        "\n",
        "Note that `==` and `=` are not the same. Both of them serve a different purpose.\n",
        "\n",
        "`==` operator checks if the two values are equal and outputs the boolean value. It is an *equality operator*.\n",
        "\n",
        "`=` operator 1) assigns a value to a new variable or 2) updates the value of the previous variable. It is an *assignment operator*.  "
      ],
      "metadata": {
        "id": "Z_CrthVIzhnE"
      }
    },
    {
      "cell_type": "code",
      "source": [
        "x = 5\n",
        "print(x)\n",
        "x = x + 1\n",
        "print(x)\n",
        "x = x + 1\n",
        "print(x)"
      ],
      "metadata": {
        "colab": {
          "base_uri": "https://localhost:8080/"
        },
        "id": "VWfqpCuQzJZF",
        "outputId": "65957b4f-56c8-4d7d-d0e3-5bf6a44ee3aa"
      },
      "execution_count": 27,
      "outputs": [
        {
          "output_type": "stream",
          "name": "stdout",
          "text": [
            "5\n",
            "6\n",
            "7\n"
          ]
        }
      ]
    },
    {
      "cell_type": "markdown",
      "source": [
        "In the first line I have assigned the value `5` to the variable `x` using the assignment operator `=`. By printing its value, we get `5`.\n",
        "\n",
        "In the next lines, I am updating the value of `x` as `x + 1`. This doesn't make sense in math, but in CS it makes perfect sense. The line `x = x + 1` is read from the RHS as follows.\n",
        "\n",
        "- Take the previous value of `x`(`5`) and add `1` to it.\n",
        "- This results in `6`.\n",
        "- Store this new value in `x` itself by updating its previous value.\n",
        "\n",
        "We can update however we like:"
      ],
      "metadata": {
        "id": "qiCxR0DW0yCT"
      }
    },
    {
      "cell_type": "code",
      "source": [
        "y = 100\n",
        "print(y)\n",
        "y = y / 10\n",
        "print(y)\n",
        "y = y + 5\n",
        "print(y)\n",
        "y = int(y)\n",
        "print(y)"
      ],
      "metadata": {
        "colab": {
          "base_uri": "https://localhost:8080/"
        },
        "id": "d8i73_GO0uXC",
        "outputId": "93820595-322a-485e-a33b-8d2aa1e9329a"
      },
      "execution_count": 28,
      "outputs": [
        {
          "output_type": "stream",
          "name": "stdout",
          "text": [
            "100\n",
            "10.0\n",
            "15.0\n",
            "15\n"
          ]
        }
      ]
    },
    {
      "cell_type": "markdown",
      "source": [
        "## 3 Logical Operator\n",
        "\n",
        "Coming to our last category, we have the following:\n",
        "\n",
        "|Operator|Operation|\n",
        "|---|---|\n",
        "|not|negation|\n",
        "|and|conjunction|\n",
        "|or|disjunction|\n",
        "\n",
        "`and` and `or` are binary operators whereas `not` is a unary operator.\n",
        "\n",
        "### `and`"
      ],
      "metadata": {
        "id": "2GWh4v_Z2P8x"
      }
    },
    {
      "cell_type": "code",
      "source": [
        "print(True and True)\n",
        "print(True and False)\n",
        "print(False and True)\n",
        "print(False and False)"
      ],
      "metadata": {
        "colab": {
          "base_uri": "https://localhost:8080/"
        },
        "id": "q4z2Fq-92ECi",
        "outputId": "b78c568e-d91f-4a36-bcb6-ed3e84698593"
      },
      "execution_count": 42,
      "outputs": [
        {
          "output_type": "stream",
          "name": "stdout",
          "text": [
            "True\n",
            "False\n",
            "False\n",
            "False\n"
          ]
        }
      ]
    },
    {
      "cell_type": "markdown",
      "source": [
        "### `or`"
      ],
      "metadata": {
        "id": "-LYuFOKPB74c"
      }
    },
    {
      "cell_type": "code",
      "source": [
        "print(True or True)\n",
        "print(True or False)\n",
        "print(False or True)\n",
        "print(False or False)"
      ],
      "metadata": {
        "colab": {
          "base_uri": "https://localhost:8080/"
        },
        "id": "sZIV3Qwk3DTd",
        "outputId": "cda755a5-fb04-456c-d34d-10a23c3cf4ef"
      },
      "execution_count": 43,
      "outputs": [
        {
          "output_type": "stream",
          "name": "stdout",
          "text": [
            "True\n",
            "True\n",
            "True\n",
            "False\n"
          ]
        }
      ]
    },
    {
      "cell_type": "markdown",
      "source": [
        "### `not`"
      ],
      "metadata": {
        "id": "RbK48DtvB-Ge"
      }
    },
    {
      "cell_type": "code",
      "source": [
        "a = True\n",
        "print(not a)"
      ],
      "metadata": {
        "colab": {
          "base_uri": "https://localhost:8080/"
        },
        "id": "SuYjH7Dt3bO7",
        "outputId": "c531c095-714e-4f90-f0f2-e61708a8db6f"
      },
      "execution_count": 35,
      "outputs": [
        {
          "output_type": "stream",
          "name": "stdout",
          "text": [
            "False\n"
          ]
        }
      ]
    },
    {
      "cell_type": "markdown",
      "source": [
        "Negates the value of `a`. It can be written with parenthesis as well:"
      ],
      "metadata": {
        "id": "sgZ3iDqH3nXZ"
      }
    },
    {
      "cell_type": "code",
      "source": [
        "b = False\n",
        "print(not(b))"
      ],
      "metadata": {
        "colab": {
          "base_uri": "https://localhost:8080/"
        },
        "id": "UIimC1nN3fmB",
        "outputId": "a6cb6910-f3f8-4fe1-f3ff-ea9f47b961cc"
      },
      "execution_count": 36,
      "outputs": [
        {
          "output_type": "stream",
          "name": "stdout",
          "text": [
            "True\n"
          ]
        }
      ]
    },
    {
      "cell_type": "markdown",
      "source": [
        "## To Explore Later\n",
        "\n",
        "Now that I have looked at all of this, let me think and explore the following:\n",
        "\n",
        "1. The appropriate operands that go well with each of the above operators.\n",
        "2. Clear understanding of the type of output that comes with each operator\n",
        "3. (and so on)\n",
        "\n",
        "Let me just jot down some stuff here.\n",
        "\n",
        "For all the arithmentic operators, the operands with which I played around were `int` and `float` types."
      ],
      "metadata": {
        "id": "TLrimJER4C5u"
      }
    },
    {
      "cell_type": "code",
      "source": [
        "a = 5\n",
        "b = 10\n",
        "c = a + b\n",
        "print(c)"
      ],
      "metadata": {
        "colab": {
          "base_uri": "https://localhost:8080/"
        },
        "id": "luFwe9-E3lIR",
        "outputId": "575520aa-1163-476c-9601-ccead16bc344"
      },
      "execution_count": 37,
      "outputs": [
        {
          "output_type": "stream",
          "name": "stdout",
          "text": [
            "15\n"
          ]
        }
      ]
    },
    {
      "cell_type": "code",
      "source": [
        "a = 6.7\n",
        "b = -9.8\n",
        "c = a + b\n",
        "print(c)"
      ],
      "metadata": {
        "colab": {
          "base_uri": "https://localhost:8080/"
        },
        "id": "soJG7DAy4rQ4",
        "outputId": "346058db-693a-490c-840e-d6c7b066d26d"
      },
      "execution_count": 39,
      "outputs": [
        {
          "output_type": "stream",
          "name": "stdout",
          "text": [
            "-3.1000000000000005\n"
          ]
        }
      ]
    },
    {
      "cell_type": "markdown",
      "source": [
        "What the hell is this?!:"
      ],
      "metadata": {
        "id": "9OQ_RlyF421U"
      }
    },
    {
      "cell_type": "code",
      "source": [
        "a = 'apple'\n",
        "b = 'ball'\n",
        "c = a + b\n",
        "print(c)"
      ],
      "metadata": {
        "colab": {
          "base_uri": "https://localhost:8080/"
        },
        "id": "KEJbpywV4wQV",
        "outputId": "f89e9296-422d-4d37-b044-3540a2ddc60e"
      },
      "execution_count": 40,
      "outputs": [
        {
          "output_type": "stream",
          "name": "stdout",
          "text": [
            "appleball\n"
          ]
        }
      ]
    },
    {
      "cell_type": "markdown",
      "source": [
        "Turns out I can use strings as well, with the `+` operator. When used, it is combining the two strings one after the other.\n",
        "\n",
        "In CS, this is called as *concatenation*.\n",
        "\n",
        "So you see, I need to figure out what all works for other type of operators as well. Look at this for example."
      ],
      "metadata": {
        "id": "3hmTx0pF48br"
      }
    },
    {
      "cell_type": "code",
      "source": [
        "print(5 and 7)"
      ],
      "metadata": {
        "colab": {
          "base_uri": "https://localhost:8080/"
        },
        "id": "Gw0vi5Aa443Z",
        "outputId": "fe630086-409c-4ac7-d81b-2901d2d1fcf2"
      },
      "execution_count": 41,
      "outputs": [
        {
          "output_type": "stream",
          "name": "stdout",
          "text": [
            "7\n"
          ]
        }
      ]
    },
    {
      "cell_type": "markdown",
      "source": [
        "What is happening here?!\n",
        "\n",
        "> **GOAL:** Get a clear idea of the list of operands that go well and the list of outputs that we get."
      ],
      "metadata": {
        "id": "x7HzEaFv5V7s"
      }
    }
  ]
}